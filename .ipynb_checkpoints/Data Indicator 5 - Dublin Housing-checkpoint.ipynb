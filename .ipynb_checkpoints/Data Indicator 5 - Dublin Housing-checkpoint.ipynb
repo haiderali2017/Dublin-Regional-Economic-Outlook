{
 "cells": [
  {
   "cell_type": "code",
   "execution_count": 12,
   "id": "27b1b94f-aa68-4f5c-98f0-f5f6ae25d16e",
   "metadata": {},
   "outputs": [],
   "source": [
    "import pandas as pd\n",
    "import my_data_tools as dt # my data processing module"
   ]
  },
  {
   "cell_type": "markdown",
   "id": "883c774e-b2de-48f1-a472-5f756b257852",
   "metadata": {},
   "source": [
    "## Data Loading"
   ]
  },
  {
   "cell_type": "code",
   "execution_count": 13,
   "id": "d5375d01-50d6-4999-b8b6-bb96b749d00e",
   "metadata": {},
   "outputs": [],
   "source": [
    "dublin_housing = pd.read_csv('https://data.smartdublin.ie/dataset/4997223b-13b2-4c97-9e88-cd94c6d35aec/resource/8c0f9bed-3b65-40c9-9bd2-505d7bdc1aeb/download/indicator-5-dublin-housing-v2.xlsx')"
   ]
  },
  {
   "cell_type": "markdown",
   "id": "e0105467-cd14-4bca-b5b1-22955aa3e06b",
   "metadata": {},
   "source": [
    "## Data Overview"
   ]
  },
  {
   "cell_type": "code",
   "execution_count": 14,
   "id": "2785cf10-0b00-4b4f-bb84-6da37dfcfe17",
   "metadata": {},
   "outputs": [
    {
     "data": {
      "text/html": [
       "<div>\n",
       "<style scoped>\n",
       "    .dataframe tbody tr th:only-of-type {\n",
       "        vertical-align: middle;\n",
       "    }\n",
       "\n",
       "    .dataframe tbody tr th {\n",
       "        vertical-align: top;\n",
       "    }\n",
       "\n",
       "    .dataframe thead th {\n",
       "        text-align: right;\n",
       "    }\n",
       "</style>\n",
       "<table border=\"1\" class=\"dataframe\">\n",
       "  <thead>\n",
       "    <tr style=\"text-align: right;\">\n",
       "      <th></th>\n",
       "      <th>Quarter</th>\n",
       "      <th>Completions NEW</th>\n",
       "      <th>Commencements</th>\n",
       "      <th>completions___commencements</th>\n",
       "      <th>unsafe__yoy_completions</th>\n",
       "      <th>unsafe__yoy_commencements</th>\n",
       "      <th>YoY Completions</th>\n",
       "      <th>YoY Commencements</th>\n",
       "      <th>unsafe__qoq_completions</th>\n",
       "      <th>unsafe__qoq_commencements</th>\n",
       "      <th>QoQ Completions</th>\n",
       "      <th>QoQ Commencements</th>\n",
       "    </tr>\n",
       "  </thead>\n",
       "  <tbody>\n",
       "    <tr>\n",
       "      <th>0</th>\n",
       "      <td>Q1 2011</td>\n",
       "      <td>333</td>\n",
       "      <td>66</td>\n",
       "      <td>True</td>\n",
       "      <td>NaN</td>\n",
       "      <td>NaN</td>\n",
       "      <td>NaN</td>\n",
       "      <td>NaN</td>\n",
       "      <td>NaN</td>\n",
       "      <td>NaN</td>\n",
       "      <td>NaN</td>\n",
       "      <td>NaN</td>\n",
       "    </tr>\n",
       "    <tr>\n",
       "      <th>1</th>\n",
       "      <td>Q2 2011</td>\n",
       "      <td>349</td>\n",
       "      <td>163</td>\n",
       "      <td>True</td>\n",
       "      <td>NaN</td>\n",
       "      <td>NaN</td>\n",
       "      <td>NaN</td>\n",
       "      <td>NaN</td>\n",
       "      <td>4.60%</td>\n",
       "      <td>147.00%</td>\n",
       "      <td>15.29</td>\n",
       "      <td>97.0</td>\n",
       "    </tr>\n",
       "    <tr>\n",
       "      <th>2</th>\n",
       "      <td>Q3 2011</td>\n",
       "      <td>188</td>\n",
       "      <td>63</td>\n",
       "      <td>True</td>\n",
       "      <td>NaN</td>\n",
       "      <td>NaN</td>\n",
       "      <td>NaN</td>\n",
       "      <td>NaN</td>\n",
       "      <td>-46.10%</td>\n",
       "      <td>-61.30%</td>\n",
       "      <td>-160.85</td>\n",
       "      <td>-100.0</td>\n",
       "    </tr>\n",
       "    <tr>\n",
       "      <th>3</th>\n",
       "      <td>Q4 11</td>\n",
       "      <td>137</td>\n",
       "      <td>46</td>\n",
       "      <td>True</td>\n",
       "      <td>NaN</td>\n",
       "      <td>NaN</td>\n",
       "      <td>NaN</td>\n",
       "      <td>NaN</td>\n",
       "      <td>-27.20%</td>\n",
       "      <td>-27.00%</td>\n",
       "      <td>-51.15</td>\n",
       "      <td>-17.0</td>\n",
       "    </tr>\n",
       "    <tr>\n",
       "      <th>4</th>\n",
       "      <td>Q1 12</td>\n",
       "      <td>128</td>\n",
       "      <td>43</td>\n",
       "      <td>True</td>\n",
       "      <td>-61.70%</td>\n",
       "      <td>-34.80%</td>\n",
       "      <td>-205.6</td>\n",
       "      <td>-23.0</td>\n",
       "      <td>-6.50%</td>\n",
       "      <td>-6.50%</td>\n",
       "      <td>-8.87</td>\n",
       "      <td>-3.0</td>\n",
       "    </tr>\n",
       "  </tbody>\n",
       "</table>\n",
       "</div>"
      ],
      "text/plain": [
       "   Quarter  Completions NEW Commencements  completions___commencements  \\\n",
       "0  Q1 2011              333            66                         True   \n",
       "1  Q2 2011              349           163                         True   \n",
       "2  Q3 2011              188            63                         True   \n",
       "3    Q4 11              137            46                         True   \n",
       "4    Q1 12              128            43                         True   \n",
       "\n",
       "  unsafe__yoy_completions unsafe__yoy_commencements  YoY Completions  \\\n",
       "0                     NaN                       NaN              NaN   \n",
       "1                     NaN                       NaN              NaN   \n",
       "2                     NaN                       NaN              NaN   \n",
       "3                     NaN                       NaN              NaN   \n",
       "4                 -61.70%                   -34.80%           -205.6   \n",
       "\n",
       "   YoY Commencements unsafe__qoq_completions unsafe__qoq_commencements  \\\n",
       "0                NaN                     NaN                       NaN   \n",
       "1                NaN                   4.60%                   147.00%   \n",
       "2                NaN                 -46.10%                   -61.30%   \n",
       "3                NaN                 -27.20%                   -27.00%   \n",
       "4              -23.0                  -6.50%                    -6.50%   \n",
       "\n",
       "   QoQ Completions  QoQ Commencements  \n",
       "0              NaN                NaN  \n",
       "1            15.29               97.0  \n",
       "2          -160.85             -100.0  \n",
       "3           -51.15              -17.0  \n",
       "4            -8.87               -3.0  "
      ]
     },
     "execution_count": 14,
     "metadata": {},
     "output_type": "execute_result"
    }
   ],
   "source": [
    "dublin_housing.head()"
   ]
  },
  {
   "cell_type": "markdown",
   "id": "eeaa38ed-f441-4365-829a-e2ab2e8d4c58",
   "metadata": {},
   "source": [
    "## Data Cleaning"
   ]
  },
  {
   "cell_type": "code",
   "execution_count": 15,
   "id": "eeaa31a7-30d1-46a4-8486-27201a1a4e8a",
   "metadata": {},
   "outputs": [],
   "source": [
    "transformations = {\n",
    "    'unsafe__qoq_commencements': {'replace': {'%': ''}, 'typecast': 'float'},\n",
    "    'unsafe__qoq_completions': {'replace': {'%': ''}, 'typecast': 'float'},\n",
    "    'unsafe__yoy_commencements': {'replace': {'%': ''}, 'typecast': 'float'},\n",
    "    'unsafe__yoy_completions': {'replace': {'%': ''}, 'typecast': 'float'},\n",
    "    'Commencements': {'replace': {',': ''}, 'typecast': 'int'}\n",
    "}\n",
    "dublin_housing = dt.data_clean(dublin_housing, transformations)"
   ]
  },
  {
   "cell_type": "code",
   "execution_count": 16,
   "id": "c42703fc-f1b6-444d-9c5f-31cf1353106e",
   "metadata": {},
   "outputs": [],
   "source": [
    "# Save the pre-processed dataset\n",
    "dublin_housing.to_csv('Dublin Housing.csv', index=False)"
   ]
  },
  {
   "cell_type": "code",
   "execution_count": 17,
   "id": "ccbba491-9874-499d-a312-f06c6c0ed9c0",
   "metadata": {},
   "outputs": [
    {
     "data": {
      "text/plain": [
       "Index(['Quarter', 'Completions NEW', 'Commencements',\n",
       "       'completions___commencements', 'unsafe__yoy_completions',\n",
       "       'unsafe__yoy_commencements', 'YoY Completions', 'YoY Commencements',\n",
       "       'unsafe__qoq_completions', 'unsafe__qoq_commencements',\n",
       "       'QoQ Completions', 'QoQ Commencements'],\n",
       "      dtype='object')"
      ]
     },
     "execution_count": 17,
     "metadata": {},
     "output_type": "execute_result"
    }
   ],
   "source": [
    "dublin_housing.columns"
   ]
  },
  {
   "cell_type": "code",
   "execution_count": 18,
   "id": "c8e4cda2-765f-4505-826c-1f644432909c",
   "metadata": {},
   "outputs": [
    {
     "data": {
      "text/html": [
       "<div>\n",
       "<style scoped>\n",
       "    .dataframe tbody tr th:only-of-type {\n",
       "        vertical-align: middle;\n",
       "    }\n",
       "\n",
       "    .dataframe tbody tr th {\n",
       "        vertical-align: top;\n",
       "    }\n",
       "\n",
       "    .dataframe thead th {\n",
       "        text-align: right;\n",
       "    }\n",
       "</style>\n",
       "<table border=\"1\" class=\"dataframe\">\n",
       "  <thead>\n",
       "    <tr style=\"text-align: right;\">\n",
       "      <th></th>\n",
       "      <th>Quarter</th>\n",
       "      <th>Completions NEW</th>\n",
       "      <th>Commencements</th>\n",
       "      <th>completions___commencements</th>\n",
       "      <th>unsafe__yoy_completions</th>\n",
       "      <th>unsafe__yoy_commencements</th>\n",
       "      <th>YoY Completions</th>\n",
       "      <th>YoY Commencements</th>\n",
       "      <th>unsafe__qoq_completions</th>\n",
       "      <th>unsafe__qoq_commencements</th>\n",
       "      <th>QoQ Completions</th>\n",
       "      <th>QoQ Commencements</th>\n",
       "    </tr>\n",
       "  </thead>\n",
       "  <tbody>\n",
       "    <tr>\n",
       "      <th>0</th>\n",
       "      <td>Q1 12</td>\n",
       "      <td>128</td>\n",
       "      <td>43</td>\n",
       "      <td>True</td>\n",
       "      <td>-61.7</td>\n",
       "      <td>-34.8</td>\n",
       "      <td>-205.6</td>\n",
       "      <td>-23.0</td>\n",
       "      <td>-6.5</td>\n",
       "      <td>-6.5</td>\n",
       "      <td>-8.87</td>\n",
       "      <td>-3.0</td>\n",
       "    </tr>\n",
       "    <tr>\n",
       "      <th>1</th>\n",
       "      <td>Q2 12</td>\n",
       "      <td>107</td>\n",
       "      <td>391</td>\n",
       "      <td>False</td>\n",
       "      <td>-69.4</td>\n",
       "      <td>139.9</td>\n",
       "      <td>-242.0</td>\n",
       "      <td>228.0</td>\n",
       "      <td>-16.5</td>\n",
       "      <td>809.3</td>\n",
       "      <td>-21.12</td>\n",
       "      <td>348.0</td>\n",
       "    </tr>\n",
       "    <tr>\n",
       "      <th>2</th>\n",
       "      <td>Q3 12</td>\n",
       "      <td>150</td>\n",
       "      <td>89</td>\n",
       "      <td>True</td>\n",
       "      <td>-19.9</td>\n",
       "      <td>41.3</td>\n",
       "      <td>-37.4</td>\n",
       "      <td>26.0</td>\n",
       "      <td>41.0</td>\n",
       "      <td>-77.2</td>\n",
       "      <td>43.74</td>\n",
       "      <td>-302.0</td>\n",
       "    </tr>\n",
       "    <tr>\n",
       "      <th>3</th>\n",
       "      <td>Q4 12</td>\n",
       "      <td>185</td>\n",
       "      <td>243</td>\n",
       "      <td>False</td>\n",
       "      <td>35.5</td>\n",
       "      <td>428.3</td>\n",
       "      <td>48.5</td>\n",
       "      <td>197.0</td>\n",
       "      <td>23.1</td>\n",
       "      <td>173.0</td>\n",
       "      <td>34.70</td>\n",
       "      <td>154.0</td>\n",
       "    </tr>\n",
       "    <tr>\n",
       "      <th>4</th>\n",
       "      <td>Q1 13</td>\n",
       "      <td>131</td>\n",
       "      <td>254</td>\n",
       "      <td>False</td>\n",
       "      <td>2.7</td>\n",
       "      <td>490.7</td>\n",
       "      <td>3.5</td>\n",
       "      <td>211.0</td>\n",
       "      <td>-29.1</td>\n",
       "      <td>4.5</td>\n",
       "      <td>-53.84</td>\n",
       "      <td>11.0</td>\n",
       "    </tr>\n",
       "    <tr>\n",
       "      <th>5</th>\n",
       "      <td>Q2 13</td>\n",
       "      <td>197</td>\n",
       "      <td>182</td>\n",
       "      <td>True</td>\n",
       "      <td>85.1</td>\n",
       "      <td>-53.5</td>\n",
       "      <td>90.7</td>\n",
       "      <td>-209.0</td>\n",
       "      <td>50.4</td>\n",
       "      <td>-28.3</td>\n",
       "      <td>66.15</td>\n",
       "      <td>-72.0</td>\n",
       "    </tr>\n",
       "    <tr>\n",
       "      <th>6</th>\n",
       "      <td>Q3 13</td>\n",
       "      <td>188</td>\n",
       "      <td>487</td>\n",
       "      <td>False</td>\n",
       "      <td>24.8</td>\n",
       "      <td>447.2</td>\n",
       "      <td>37.3</td>\n",
       "      <td>398.0</td>\n",
       "      <td>-4.9</td>\n",
       "      <td>167.6</td>\n",
       "      <td>-9.68</td>\n",
       "      <td>305.0</td>\n",
       "    </tr>\n",
       "    <tr>\n",
       "      <th>7</th>\n",
       "      <td>Q4 13</td>\n",
       "      <td>283</td>\n",
       "      <td>528</td>\n",
       "      <td>False</td>\n",
       "      <td>52.8</td>\n",
       "      <td>117.3</td>\n",
       "      <td>97.8</td>\n",
       "      <td>285.0</td>\n",
       "      <td>50.7</td>\n",
       "      <td>8.4</td>\n",
       "      <td>95.21</td>\n",
       "      <td>41.0</td>\n",
       "    </tr>\n",
       "    <tr>\n",
       "      <th>8</th>\n",
       "      <td>Q1 14</td>\n",
       "      <td>350</td>\n",
       "      <td>1575</td>\n",
       "      <td>False</td>\n",
       "      <td>166.3</td>\n",
       "      <td>520.1</td>\n",
       "      <td>218.3</td>\n",
       "      <td>1321.0</td>\n",
       "      <td>23.5</td>\n",
       "      <td>198.3</td>\n",
       "      <td>66.62</td>\n",
       "      <td>1047.0</td>\n",
       "    </tr>\n",
       "    <tr>\n",
       "      <th>9</th>\n",
       "      <td>Q2 14</td>\n",
       "      <td>471</td>\n",
       "      <td>144</td>\n",
       "      <td>True</td>\n",
       "      <td>138.5</td>\n",
       "      <td>-20.9</td>\n",
       "      <td>273.4</td>\n",
       "      <td>-38.0</td>\n",
       "      <td>34.7</td>\n",
       "      <td>-90.9</td>\n",
       "      <td>121.26</td>\n",
       "      <td>-1431.0</td>\n",
       "    </tr>\n",
       "    <tr>\n",
       "      <th>10</th>\n",
       "      <td>Q3 14</td>\n",
       "      <td>448</td>\n",
       "      <td>311</td>\n",
       "      <td>True</td>\n",
       "      <td>138.6</td>\n",
       "      <td>-36.1</td>\n",
       "      <td>260.2</td>\n",
       "      <td>-176.0</td>\n",
       "      <td>-4.9</td>\n",
       "      <td>116.0</td>\n",
       "      <td>-22.90</td>\n",
       "      <td>167.0</td>\n",
       "    </tr>\n",
       "    <tr>\n",
       "      <th>11</th>\n",
       "      <td>Q4 14</td>\n",
       "      <td>432</td>\n",
       "      <td>420</td>\n",
       "      <td>True</td>\n",
       "      <td>52.6</td>\n",
       "      <td>-20.5</td>\n",
       "      <td>148.8</td>\n",
       "      <td>-108.0</td>\n",
       "      <td>-3.6</td>\n",
       "      <td>35.0</td>\n",
       "      <td>-16.16</td>\n",
       "      <td>109.0</td>\n",
       "    </tr>\n",
       "    <tr>\n",
       "      <th>12</th>\n",
       "      <td>Q1 15</td>\n",
       "      <td>517</td>\n",
       "      <td>469</td>\n",
       "      <td>True</td>\n",
       "      <td>47.8</td>\n",
       "      <td>-70.2</td>\n",
       "      <td>167.0</td>\n",
       "      <td>-1106.0</td>\n",
       "      <td>19.7</td>\n",
       "      <td>11.7</td>\n",
       "      <td>84.85</td>\n",
       "      <td>49.0</td>\n",
       "    </tr>\n",
       "    <tr>\n",
       "      <th>13</th>\n",
       "      <td>Q2 15</td>\n",
       "      <td>468</td>\n",
       "      <td>898</td>\n",
       "      <td>False</td>\n",
       "      <td>-0.6</td>\n",
       "      <td>523.6</td>\n",
       "      <td>-2.9</td>\n",
       "      <td>754.0</td>\n",
       "      <td>-9.4</td>\n",
       "      <td>91.5</td>\n",
       "      <td>-48.67</td>\n",
       "      <td>429.0</td>\n",
       "    </tr>\n",
       "    <tr>\n",
       "      <th>14</th>\n",
       "      <td>Q3 15</td>\n",
       "      <td>584</td>\n",
       "      <td>1218</td>\n",
       "      <td>False</td>\n",
       "      <td>30.3</td>\n",
       "      <td>291.6</td>\n",
       "      <td>135.6</td>\n",
       "      <td>907.0</td>\n",
       "      <td>24.7</td>\n",
       "      <td>35.6</td>\n",
       "      <td>115.56</td>\n",
       "      <td>320.0</td>\n",
       "    </tr>\n",
       "    <tr>\n",
       "      <th>15</th>\n",
       "      <td>Q4 15</td>\n",
       "      <td>543</td>\n",
       "      <td>1301</td>\n",
       "      <td>False</td>\n",
       "      <td>25.6</td>\n",
       "      <td>209.8</td>\n",
       "      <td>110.7</td>\n",
       "      <td>881.0</td>\n",
       "      <td>-7.0</td>\n",
       "      <td>6.8</td>\n",
       "      <td>-41.00</td>\n",
       "      <td>83.0</td>\n",
       "    </tr>\n",
       "    <tr>\n",
       "      <th>16</th>\n",
       "      <td>Q1 16</td>\n",
       "      <td>918</td>\n",
       "      <td>1552</td>\n",
       "      <td>False</td>\n",
       "      <td>77.7</td>\n",
       "      <td>230.9</td>\n",
       "      <td>401.5</td>\n",
       "      <td>1083.0</td>\n",
       "      <td>69.2</td>\n",
       "      <td>19.3</td>\n",
       "      <td>375.64</td>\n",
       "      <td>251.0</td>\n",
       "    </tr>\n",
       "    <tr>\n",
       "      <th>17</th>\n",
       "      <td>Q2 16</td>\n",
       "      <td>901</td>\n",
       "      <td>1093</td>\n",
       "      <td>False</td>\n",
       "      <td>92.6</td>\n",
       "      <td>21.7</td>\n",
       "      <td>433.3</td>\n",
       "      <td>195.0</td>\n",
       "      <td>-1.8</td>\n",
       "      <td>-29.6</td>\n",
       "      <td>-16.93</td>\n",
       "      <td>-459.0</td>\n",
       "    </tr>\n",
       "    <tr>\n",
       "      <th>18</th>\n",
       "      <td>Q3 16</td>\n",
       "      <td>868</td>\n",
       "      <td>897</td>\n",
       "      <td>False</td>\n",
       "      <td>48.8</td>\n",
       "      <td>-26.4</td>\n",
       "      <td>284.7</td>\n",
       "      <td>-321.0</td>\n",
       "      <td>-3.7</td>\n",
       "      <td>-17.9</td>\n",
       "      <td>-33.06</td>\n",
       "      <td>-196.0</td>\n",
       "    </tr>\n",
       "    <tr>\n",
       "      <th>19</th>\n",
       "      <td>Q4 16</td>\n",
       "      <td>879</td>\n",
       "      <td>1862</td>\n",
       "      <td>False</td>\n",
       "      <td>62.1</td>\n",
       "      <td>43.1</td>\n",
       "      <td>336.8</td>\n",
       "      <td>561.0</td>\n",
       "      <td>1.3</td>\n",
       "      <td>107.6</td>\n",
       "      <td>11.11</td>\n",
       "      <td>965.0</td>\n",
       "    </tr>\n",
       "    <tr>\n",
       "      <th>20</th>\n",
       "      <td>Q1 17</td>\n",
       "      <td>1206</td>\n",
       "      <td>1465</td>\n",
       "      <td>False</td>\n",
       "      <td>31.4</td>\n",
       "      <td>-5.6</td>\n",
       "      <td>288.2</td>\n",
       "      <td>-87.0</td>\n",
       "      <td>37.2</td>\n",
       "      <td>-21.3</td>\n",
       "      <td>327.08</td>\n",
       "      <td>-397.0</td>\n",
       "    </tr>\n",
       "    <tr>\n",
       "      <th>21</th>\n",
       "      <td>Q2 17</td>\n",
       "      <td>1344</td>\n",
       "      <td>2196</td>\n",
       "      <td>False</td>\n",
       "      <td>49.1</td>\n",
       "      <td>100.9</td>\n",
       "      <td>442.6</td>\n",
       "      <td>1103.0</td>\n",
       "      <td>11.4</td>\n",
       "      <td>49.9</td>\n",
       "      <td>137.42</td>\n",
       "      <td>731.0</td>\n",
       "    </tr>\n",
       "    <tr>\n",
       "      <th>22</th>\n",
       "      <td>Q3 17</td>\n",
       "      <td>1564</td>\n",
       "      <td>1686</td>\n",
       "      <td>False</td>\n",
       "      <td>80.1</td>\n",
       "      <td>88.0</td>\n",
       "      <td>695.5</td>\n",
       "      <td>789.0</td>\n",
       "      <td>16.4</td>\n",
       "      <td>-23.2</td>\n",
       "      <td>219.87</td>\n",
       "      <td>-510.0</td>\n",
       "    </tr>\n",
       "    <tr>\n",
       "      <th>23</th>\n",
       "      <td>Q4 17</td>\n",
       "      <td>1406</td>\n",
       "      <td>1640</td>\n",
       "      <td>False</td>\n",
       "      <td>59.9</td>\n",
       "      <td>-11.9</td>\n",
       "      <td>526.6</td>\n",
       "      <td>-222.0</td>\n",
       "      <td>-10.1</td>\n",
       "      <td>-2.7</td>\n",
       "      <td>-157.81</td>\n",
       "      <td>-46.0</td>\n",
       "    </tr>\n",
       "    <tr>\n",
       "      <th>24</th>\n",
       "      <td>Q1 18</td>\n",
       "      <td>1385</td>\n",
       "      <td>1433</td>\n",
       "      <td>False</td>\n",
       "      <td>14.8</td>\n",
       "      <td>-2.2</td>\n",
       "      <td>178.2</td>\n",
       "      <td>-32.0</td>\n",
       "      <td>-1.5</td>\n",
       "      <td>-12.6</td>\n",
       "      <td>-21.31</td>\n",
       "      <td>-207.0</td>\n",
       "    </tr>\n",
       "    <tr>\n",
       "      <th>25</th>\n",
       "      <td>Q2 18</td>\n",
       "      <td>1919</td>\n",
       "      <td>1950</td>\n",
       "      <td>False</td>\n",
       "      <td>42.8</td>\n",
       "      <td>-11.2</td>\n",
       "      <td>575.3</td>\n",
       "      <td>-246.0</td>\n",
       "      <td>38.6</td>\n",
       "      <td>36.1</td>\n",
       "      <td>534.54</td>\n",
       "      <td>517.0</td>\n",
       "    </tr>\n",
       "    <tr>\n",
       "      <th>26</th>\n",
       "      <td>Q3 18</td>\n",
       "      <td>1917</td>\n",
       "      <td>2084</td>\n",
       "      <td>False</td>\n",
       "      <td>22.6</td>\n",
       "      <td>23.6</td>\n",
       "      <td>353.6</td>\n",
       "      <td>398.0</td>\n",
       "      <td>-0.1</td>\n",
       "      <td>6.9</td>\n",
       "      <td>-1.78</td>\n",
       "      <td>134.0</td>\n",
       "    </tr>\n",
       "    <tr>\n",
       "      <th>27</th>\n",
       "      <td>Q4 18</td>\n",
       "      <td>1625</td>\n",
       "      <td>2240</td>\n",
       "      <td>False</td>\n",
       "      <td>15.6</td>\n",
       "      <td>36.6</td>\n",
       "      <td>219.5</td>\n",
       "      <td>600.0</td>\n",
       "      <td>-15.2</td>\n",
       "      <td>7.5</td>\n",
       "      <td>-291.96</td>\n",
       "      <td>156.0</td>\n",
       "    </tr>\n",
       "    <tr>\n",
       "      <th>28</th>\n",
       "      <td>Q1 19</td>\n",
       "      <td>1696</td>\n",
       "      <td>2237</td>\n",
       "      <td>False</td>\n",
       "      <td>22.5</td>\n",
       "      <td>56.1</td>\n",
       "      <td>311.5</td>\n",
       "      <td>804.0</td>\n",
       "      <td>4.4</td>\n",
       "      <td>-0.1</td>\n",
       "      <td>70.72</td>\n",
       "      <td>-3.0</td>\n",
       "    </tr>\n",
       "    <tr>\n",
       "      <th>29</th>\n",
       "      <td>Q2 19</td>\n",
       "      <td>1571</td>\n",
       "      <td>1589</td>\n",
       "      <td>False</td>\n",
       "      <td>-18.2</td>\n",
       "      <td>-18.5</td>\n",
       "      <td>-348.4</td>\n",
       "      <td>-361.0</td>\n",
       "      <td>-7.4</td>\n",
       "      <td>-29.0</td>\n",
       "      <td>-125.39</td>\n",
       "      <td>-648.0</td>\n",
       "    </tr>\n",
       "    <tr>\n",
       "      <th>30</th>\n",
       "      <td>Q3 19</td>\n",
       "      <td>2010</td>\n",
       "      <td>2648</td>\n",
       "      <td>False</td>\n",
       "      <td>4.8</td>\n",
       "      <td>27.1</td>\n",
       "      <td>92.2</td>\n",
       "      <td>564.0</td>\n",
       "      <td>27.9</td>\n",
       "      <td>66.6</td>\n",
       "      <td>438.84</td>\n",
       "      <td>1059.0</td>\n",
       "    </tr>\n",
       "    <tr>\n",
       "      <th>31</th>\n",
       "      <td>Q4 19</td>\n",
       "      <td>1650</td>\n",
       "      <td>2524</td>\n",
       "      <td>False</td>\n",
       "      <td>1.5</td>\n",
       "      <td>12.7</td>\n",
       "      <td>24.6</td>\n",
       "      <td>284.0</td>\n",
       "      <td>-17.9</td>\n",
       "      <td>-4.7</td>\n",
       "      <td>-359.62</td>\n",
       "      <td>-124.0</td>\n",
       "    </tr>\n",
       "    <tr>\n",
       "      <th>32</th>\n",
       "      <td>Q1 20</td>\n",
       "      <td>1896</td>\n",
       "      <td>3218</td>\n",
       "      <td>False</td>\n",
       "      <td>11.8</td>\n",
       "      <td>43.9</td>\n",
       "      <td>200.0</td>\n",
       "      <td>981.0</td>\n",
       "      <td>14.9</td>\n",
       "      <td>27.5</td>\n",
       "      <td>246.16</td>\n",
       "      <td>694.0</td>\n",
       "    </tr>\n",
       "    <tr>\n",
       "      <th>33</th>\n",
       "      <td>Q2 20</td>\n",
       "      <td>888</td>\n",
       "      <td>1154</td>\n",
       "      <td>False</td>\n",
       "      <td>-43.4</td>\n",
       "      <td>-27.4</td>\n",
       "      <td>-682.2</td>\n",
       "      <td>-435.0</td>\n",
       "      <td>-53.1</td>\n",
       "      <td>-64.1</td>\n",
       "      <td>-1007.62</td>\n",
       "      <td>-2064.0</td>\n",
       "    </tr>\n",
       "    <tr>\n",
       "      <th>34</th>\n",
       "      <td>Q3 20</td>\n",
       "      <td>1136</td>\n",
       "      <td>1935</td>\n",
       "      <td>False</td>\n",
       "      <td>-43.5</td>\n",
       "      <td>-26.9</td>\n",
       "      <td>-873.5</td>\n",
       "      <td>-713.0</td>\n",
       "      <td>27.9</td>\n",
       "      <td>67.7</td>\n",
       "      <td>247.62</td>\n",
       "      <td>781.0</td>\n",
       "    </tr>\n",
       "    <tr>\n",
       "      <th>35</th>\n",
       "      <td>Q4 20</td>\n",
       "      <td>1995</td>\n",
       "      <td>1886</td>\n",
       "      <td>True</td>\n",
       "      <td>20.9</td>\n",
       "      <td>-25.3</td>\n",
       "      <td>345.2</td>\n",
       "      <td>-638.0</td>\n",
       "      <td>75.6</td>\n",
       "      <td>-2.5</td>\n",
       "      <td>859.03</td>\n",
       "      <td>-49.0</td>\n",
       "    </tr>\n",
       "    <tr>\n",
       "      <th>36</th>\n",
       "      <td>Q1 21</td>\n",
       "      <td>1170</td>\n",
       "      <td>395</td>\n",
       "      <td>True</td>\n",
       "      <td>-38.3</td>\n",
       "      <td>-87.7</td>\n",
       "      <td>-725.7</td>\n",
       "      <td>-2823.0</td>\n",
       "      <td>-41.3</td>\n",
       "      <td>-79.1</td>\n",
       "      <td>-824.68</td>\n",
       "      <td>-1491.0</td>\n",
       "    </tr>\n",
       "    <tr>\n",
       "      <th>37</th>\n",
       "      <td>Q2 21</td>\n",
       "      <td>1638</td>\n",
       "      <td>5013</td>\n",
       "      <td>False</td>\n",
       "      <td>84.3</td>\n",
       "      <td>334.4</td>\n",
       "      <td>749.1</td>\n",
       "      <td>3859.0</td>\n",
       "      <td>39.9</td>\n",
       "      <td>1169.1</td>\n",
       "      <td>467.11</td>\n",
       "      <td>4618.0</td>\n",
       "    </tr>\n",
       "    <tr>\n",
       "      <th>38</th>\n",
       "      <td>Q3 21</td>\n",
       "      <td>1278</td>\n",
       "      <td>3596</td>\n",
       "      <td>False</td>\n",
       "      <td>12.5</td>\n",
       "      <td>85.8</td>\n",
       "      <td>141.9</td>\n",
       "      <td>1661.0</td>\n",
       "      <td>-22.0</td>\n",
       "      <td>-28.3</td>\n",
       "      <td>-359.56</td>\n",
       "      <td>-1417.0</td>\n",
       "    </tr>\n",
       "    <tr>\n",
       "      <th>39</th>\n",
       "      <td>Q4 21</td>\n",
       "      <td>2004</td>\n",
       "      <td>1932</td>\n",
       "      <td>True</td>\n",
       "      <td>0.5</td>\n",
       "      <td>2.4</td>\n",
       "      <td>9.1</td>\n",
       "      <td>46.0</td>\n",
       "      <td>56.8</td>\n",
       "      <td>-46.3</td>\n",
       "      <td>726.26</td>\n",
       "      <td>-1664.0</td>\n",
       "    </tr>\n",
       "    <tr>\n",
       "      <th>40</th>\n",
       "      <td>Q1 22</td>\n",
       "      <td>2495</td>\n",
       "      <td>1855</td>\n",
       "      <td>True</td>\n",
       "      <td>113.2</td>\n",
       "      <td>369.6</td>\n",
       "      <td>1324.7</td>\n",
       "      <td>1460.0</td>\n",
       "      <td>24.5</td>\n",
       "      <td>-4.0</td>\n",
       "      <td>490.93</td>\n",
       "      <td>-77.0</td>\n",
       "    </tr>\n",
       "    <tr>\n",
       "      <th>41</th>\n",
       "      <td>Q2 22</td>\n",
       "      <td>2905</td>\n",
       "      <td>2704</td>\n",
       "      <td>True</td>\n",
       "      <td>77.4</td>\n",
       "      <td>-46.1</td>\n",
       "      <td>1267.6</td>\n",
       "      <td>-2309.0</td>\n",
       "      <td>16.4</td>\n",
       "      <td>45.8</td>\n",
       "      <td>409.96</td>\n",
       "      <td>849.0</td>\n",
       "    </tr>\n",
       "    <tr>\n",
       "      <th>42</th>\n",
       "      <td>Q3 22</td>\n",
       "      <td>2702</td>\n",
       "      <td>2653</td>\n",
       "      <td>True</td>\n",
       "      <td>111.4</td>\n",
       "      <td>-26.2</td>\n",
       "      <td>1423.6</td>\n",
       "      <td>-943.0</td>\n",
       "      <td>-7.0</td>\n",
       "      <td>-1.9</td>\n",
       "      <td>-203.49</td>\n",
       "      <td>-51.0</td>\n",
       "    </tr>\n",
       "    <tr>\n",
       "      <th>43</th>\n",
       "      <td>Q4 22</td>\n",
       "      <td>2333</td>\n",
       "      <td>2435</td>\n",
       "      <td>False</td>\n",
       "      <td>16.4</td>\n",
       "      <td>26.0</td>\n",
       "      <td>328.8</td>\n",
       "      <td>503.0</td>\n",
       "      <td>-13.6</td>\n",
       "      <td>-8.2</td>\n",
       "      <td>-368.57</td>\n",
       "      <td>-218.0</td>\n",
       "    </tr>\n",
       "    <tr>\n",
       "      <th>44</th>\n",
       "      <td>Q1 23</td>\n",
       "      <td>2922</td>\n",
       "      <td>2747</td>\n",
       "      <td>True</td>\n",
       "      <td>17.1</td>\n",
       "      <td>48.1</td>\n",
       "      <td>426.9</td>\n",
       "      <td>892.0</td>\n",
       "      <td>25.2</td>\n",
       "      <td>12.8</td>\n",
       "      <td>589.06</td>\n",
       "      <td>312.0</td>\n",
       "    </tr>\n",
       "    <tr>\n",
       "      <th>45</th>\n",
       "      <td>Q2 23</td>\n",
       "      <td>2526</td>\n",
       "      <td>3577</td>\n",
       "      <td>False</td>\n",
       "      <td>-13.0</td>\n",
       "      <td>32.3</td>\n",
       "      <td>-379.1</td>\n",
       "      <td>873.0</td>\n",
       "      <td>-13.6</td>\n",
       "      <td>30.2</td>\n",
       "      <td>-396.06</td>\n",
       "      <td>830.0</td>\n",
       "    </tr>\n",
       "    <tr>\n",
       "      <th>46</th>\n",
       "      <td>Q3 23</td>\n",
       "      <td>3686</td>\n",
       "      <td>3267</td>\n",
       "      <td>True</td>\n",
       "      <td>36.4</td>\n",
       "      <td>23.1</td>\n",
       "      <td>984.5</td>\n",
       "      <td>614.0</td>\n",
       "      <td>45.9</td>\n",
       "      <td>-8.7</td>\n",
       "      <td>1160.08</td>\n",
       "      <td>-310.0</td>\n",
       "    </tr>\n",
       "    <tr>\n",
       "      <th>47</th>\n",
       "      <td>Q4 23</td>\n",
       "      <td>3362</td>\n",
       "      <td>4002</td>\n",
       "      <td>False</td>\n",
       "      <td>44.1</td>\n",
       "      <td>64.4</td>\n",
       "      <td>1028.6</td>\n",
       "      <td>1567.0</td>\n",
       "      <td>-8.8</td>\n",
       "      <td>22.5</td>\n",
       "      <td>-324.44</td>\n",
       "      <td>735.0</td>\n",
       "    </tr>\n",
       "    <tr>\n",
       "      <th>48</th>\n",
       "      <td>Q1 24</td>\n",
       "      <td>2184</td>\n",
       "      <td>4347</td>\n",
       "      <td>False</td>\n",
       "      <td>-25.2</td>\n",
       "      <td>58.2</td>\n",
       "      <td>-737.7</td>\n",
       "      <td>1600.0</td>\n",
       "      <td>-35.0</td>\n",
       "      <td>8.6</td>\n",
       "      <td>-1177.33</td>\n",
       "      <td>345.0</td>\n",
       "    </tr>\n",
       "    <tr>\n",
       "      <th>49</th>\n",
       "      <td>Q2 24</td>\n",
       "      <td>2250</td>\n",
       "      <td>7562</td>\n",
       "      <td>False</td>\n",
       "      <td>-10.9</td>\n",
       "      <td>111.4</td>\n",
       "      <td>-275.7</td>\n",
       "      <td>3985.0</td>\n",
       "      <td>3.0</td>\n",
       "      <td>74.0</td>\n",
       "      <td>66.01</td>\n",
       "      <td>3215.0</td>\n",
       "    </tr>\n",
       "    <tr>\n",
       "      <th>50</th>\n",
       "      <td>Q3 24</td>\n",
       "      <td>3862</td>\n",
       "      <td>6056</td>\n",
       "      <td>False</td>\n",
       "      <td>4.8</td>\n",
       "      <td>85.4</td>\n",
       "      <td>176.2</td>\n",
       "      <td>2789.0</td>\n",
       "      <td>71.6</td>\n",
       "      <td>-19.9</td>\n",
       "      <td>1612.00</td>\n",
       "      <td>-1506.0</td>\n",
       "    </tr>\n",
       "  </tbody>\n",
       "</table>\n",
       "</div>"
      ],
      "text/plain": [
       "   Quarter  Completions NEW  Commencements  completions___commencements  \\\n",
       "0    Q1 12              128             43                         True   \n",
       "1    Q2 12              107            391                        False   \n",
       "2    Q3 12              150             89                         True   \n",
       "3    Q4 12              185            243                        False   \n",
       "4    Q1 13              131            254                        False   \n",
       "5    Q2 13              197            182                         True   \n",
       "6    Q3 13              188            487                        False   \n",
       "7    Q4 13              283            528                        False   \n",
       "8    Q1 14              350           1575                        False   \n",
       "9    Q2 14              471            144                         True   \n",
       "10   Q3 14              448            311                         True   \n",
       "11   Q4 14              432            420                         True   \n",
       "12   Q1 15              517            469                         True   \n",
       "13   Q2 15              468            898                        False   \n",
       "14   Q3 15              584           1218                        False   \n",
       "15   Q4 15              543           1301                        False   \n",
       "16   Q1 16              918           1552                        False   \n",
       "17   Q2 16              901           1093                        False   \n",
       "18   Q3 16              868            897                        False   \n",
       "19   Q4 16              879           1862                        False   \n",
       "20   Q1 17             1206           1465                        False   \n",
       "21   Q2 17             1344           2196                        False   \n",
       "22   Q3 17             1564           1686                        False   \n",
       "23   Q4 17             1406           1640                        False   \n",
       "24   Q1 18             1385           1433                        False   \n",
       "25   Q2 18             1919           1950                        False   \n",
       "26   Q3 18             1917           2084                        False   \n",
       "27   Q4 18             1625           2240                        False   \n",
       "28   Q1 19             1696           2237                        False   \n",
       "29   Q2 19             1571           1589                        False   \n",
       "30   Q3 19             2010           2648                        False   \n",
       "31   Q4 19             1650           2524                        False   \n",
       "32   Q1 20             1896           3218                        False   \n",
       "33   Q2 20              888           1154                        False   \n",
       "34   Q3 20             1136           1935                        False   \n",
       "35   Q4 20             1995           1886                         True   \n",
       "36   Q1 21             1170            395                         True   \n",
       "37   Q2 21             1638           5013                        False   \n",
       "38   Q3 21             1278           3596                        False   \n",
       "39   Q4 21             2004           1932                         True   \n",
       "40   Q1 22             2495           1855                         True   \n",
       "41   Q2 22             2905           2704                         True   \n",
       "42   Q3 22             2702           2653                         True   \n",
       "43   Q4 22             2333           2435                        False   \n",
       "44   Q1 23             2922           2747                         True   \n",
       "45   Q2 23             2526           3577                        False   \n",
       "46   Q3 23             3686           3267                         True   \n",
       "47   Q4 23             3362           4002                        False   \n",
       "48   Q1 24             2184           4347                        False   \n",
       "49   Q2 24             2250           7562                        False   \n",
       "50   Q3 24             3862           6056                        False   \n",
       "\n",
       "    unsafe__yoy_completions  unsafe__yoy_commencements  YoY Completions  \\\n",
       "0                     -61.7                      -34.8           -205.6   \n",
       "1                     -69.4                      139.9           -242.0   \n",
       "2                     -19.9                       41.3            -37.4   \n",
       "3                      35.5                      428.3             48.5   \n",
       "4                       2.7                      490.7              3.5   \n",
       "5                      85.1                      -53.5             90.7   \n",
       "6                      24.8                      447.2             37.3   \n",
       "7                      52.8                      117.3             97.8   \n",
       "8                     166.3                      520.1            218.3   \n",
       "9                     138.5                      -20.9            273.4   \n",
       "10                    138.6                      -36.1            260.2   \n",
       "11                     52.6                      -20.5            148.8   \n",
       "12                     47.8                      -70.2            167.0   \n",
       "13                     -0.6                      523.6             -2.9   \n",
       "14                     30.3                      291.6            135.6   \n",
       "15                     25.6                      209.8            110.7   \n",
       "16                     77.7                      230.9            401.5   \n",
       "17                     92.6                       21.7            433.3   \n",
       "18                     48.8                      -26.4            284.7   \n",
       "19                     62.1                       43.1            336.8   \n",
       "20                     31.4                       -5.6            288.2   \n",
       "21                     49.1                      100.9            442.6   \n",
       "22                     80.1                       88.0            695.5   \n",
       "23                     59.9                      -11.9            526.6   \n",
       "24                     14.8                       -2.2            178.2   \n",
       "25                     42.8                      -11.2            575.3   \n",
       "26                     22.6                       23.6            353.6   \n",
       "27                     15.6                       36.6            219.5   \n",
       "28                     22.5                       56.1            311.5   \n",
       "29                    -18.2                      -18.5           -348.4   \n",
       "30                      4.8                       27.1             92.2   \n",
       "31                      1.5                       12.7             24.6   \n",
       "32                     11.8                       43.9            200.0   \n",
       "33                    -43.4                      -27.4           -682.2   \n",
       "34                    -43.5                      -26.9           -873.5   \n",
       "35                     20.9                      -25.3            345.2   \n",
       "36                    -38.3                      -87.7           -725.7   \n",
       "37                     84.3                      334.4            749.1   \n",
       "38                     12.5                       85.8            141.9   \n",
       "39                      0.5                        2.4              9.1   \n",
       "40                    113.2                      369.6           1324.7   \n",
       "41                     77.4                      -46.1           1267.6   \n",
       "42                    111.4                      -26.2           1423.6   \n",
       "43                     16.4                       26.0            328.8   \n",
       "44                     17.1                       48.1            426.9   \n",
       "45                    -13.0                       32.3           -379.1   \n",
       "46                     36.4                       23.1            984.5   \n",
       "47                     44.1                       64.4           1028.6   \n",
       "48                    -25.2                       58.2           -737.7   \n",
       "49                    -10.9                      111.4           -275.7   \n",
       "50                      4.8                       85.4            176.2   \n",
       "\n",
       "    YoY Commencements  unsafe__qoq_completions  unsafe__qoq_commencements  \\\n",
       "0               -23.0                     -6.5                       -6.5   \n",
       "1               228.0                    -16.5                      809.3   \n",
       "2                26.0                     41.0                      -77.2   \n",
       "3               197.0                     23.1                      173.0   \n",
       "4               211.0                    -29.1                        4.5   \n",
       "5              -209.0                     50.4                      -28.3   \n",
       "6               398.0                     -4.9                      167.6   \n",
       "7               285.0                     50.7                        8.4   \n",
       "8              1321.0                     23.5                      198.3   \n",
       "9               -38.0                     34.7                      -90.9   \n",
       "10             -176.0                     -4.9                      116.0   \n",
       "11             -108.0                     -3.6                       35.0   \n",
       "12            -1106.0                     19.7                       11.7   \n",
       "13              754.0                     -9.4                       91.5   \n",
       "14              907.0                     24.7                       35.6   \n",
       "15              881.0                     -7.0                        6.8   \n",
       "16             1083.0                     69.2                       19.3   \n",
       "17              195.0                     -1.8                      -29.6   \n",
       "18             -321.0                     -3.7                      -17.9   \n",
       "19              561.0                      1.3                      107.6   \n",
       "20              -87.0                     37.2                      -21.3   \n",
       "21             1103.0                     11.4                       49.9   \n",
       "22              789.0                     16.4                      -23.2   \n",
       "23             -222.0                    -10.1                       -2.7   \n",
       "24              -32.0                     -1.5                      -12.6   \n",
       "25             -246.0                     38.6                       36.1   \n",
       "26              398.0                     -0.1                        6.9   \n",
       "27              600.0                    -15.2                        7.5   \n",
       "28              804.0                      4.4                       -0.1   \n",
       "29             -361.0                     -7.4                      -29.0   \n",
       "30              564.0                     27.9                       66.6   \n",
       "31              284.0                    -17.9                       -4.7   \n",
       "32              981.0                     14.9                       27.5   \n",
       "33             -435.0                    -53.1                      -64.1   \n",
       "34             -713.0                     27.9                       67.7   \n",
       "35             -638.0                     75.6                       -2.5   \n",
       "36            -2823.0                    -41.3                      -79.1   \n",
       "37             3859.0                     39.9                     1169.1   \n",
       "38             1661.0                    -22.0                      -28.3   \n",
       "39               46.0                     56.8                      -46.3   \n",
       "40             1460.0                     24.5                       -4.0   \n",
       "41            -2309.0                     16.4                       45.8   \n",
       "42             -943.0                     -7.0                       -1.9   \n",
       "43              503.0                    -13.6                       -8.2   \n",
       "44              892.0                     25.2                       12.8   \n",
       "45              873.0                    -13.6                       30.2   \n",
       "46              614.0                     45.9                       -8.7   \n",
       "47             1567.0                     -8.8                       22.5   \n",
       "48             1600.0                    -35.0                        8.6   \n",
       "49             3985.0                      3.0                       74.0   \n",
       "50             2789.0                     71.6                      -19.9   \n",
       "\n",
       "    QoQ Completions  QoQ Commencements  \n",
       "0             -8.87               -3.0  \n",
       "1            -21.12              348.0  \n",
       "2             43.74             -302.0  \n",
       "3             34.70              154.0  \n",
       "4            -53.84               11.0  \n",
       "5             66.15              -72.0  \n",
       "6             -9.68              305.0  \n",
       "7             95.21               41.0  \n",
       "8             66.62             1047.0  \n",
       "9            121.26            -1431.0  \n",
       "10           -22.90              167.0  \n",
       "11           -16.16              109.0  \n",
       "12            84.85               49.0  \n",
       "13           -48.67              429.0  \n",
       "14           115.56              320.0  \n",
       "15           -41.00               83.0  \n",
       "16           375.64              251.0  \n",
       "17           -16.93             -459.0  \n",
       "18           -33.06             -196.0  \n",
       "19            11.11              965.0  \n",
       "20           327.08             -397.0  \n",
       "21           137.42              731.0  \n",
       "22           219.87             -510.0  \n",
       "23          -157.81              -46.0  \n",
       "24           -21.31             -207.0  \n",
       "25           534.54              517.0  \n",
       "26            -1.78              134.0  \n",
       "27          -291.96              156.0  \n",
       "28            70.72               -3.0  \n",
       "29          -125.39             -648.0  \n",
       "30           438.84             1059.0  \n",
       "31          -359.62             -124.0  \n",
       "32           246.16              694.0  \n",
       "33         -1007.62            -2064.0  \n",
       "34           247.62              781.0  \n",
       "35           859.03              -49.0  \n",
       "36          -824.68            -1491.0  \n",
       "37           467.11             4618.0  \n",
       "38          -359.56            -1417.0  \n",
       "39           726.26            -1664.0  \n",
       "40           490.93              -77.0  \n",
       "41           409.96              849.0  \n",
       "42          -203.49              -51.0  \n",
       "43          -368.57             -218.0  \n",
       "44           589.06              312.0  \n",
       "45          -396.06              830.0  \n",
       "46          1160.08             -310.0  \n",
       "47          -324.44              735.0  \n",
       "48         -1177.33              345.0  \n",
       "49            66.01             3215.0  \n",
       "50          1612.00            -1506.0  "
      ]
     },
     "execution_count": 18,
     "metadata": {},
     "output_type": "execute_result"
    }
   ],
   "source": [
    "dublin_housing"
   ]
  },
  {
   "cell_type": "code",
   "execution_count": 19,
   "id": "a5d11630-b8ae-49f1-b8ce-bf1dd1c2a767",
   "metadata": {},
   "outputs": [
    {
     "name": "stdout",
     "output_type": "stream",
     "text": [
      "<class 'pandas.core.frame.DataFrame'>\n",
      "RangeIndex: 51 entries, 0 to 50\n",
      "Data columns (total 12 columns):\n",
      " #   Column                       Non-Null Count  Dtype  \n",
      "---  ------                       --------------  -----  \n",
      " 0   Quarter                      51 non-null     object \n",
      " 1   Completions NEW              51 non-null     int64  \n",
      " 2   Commencements                51 non-null     int64  \n",
      " 3   completions___commencements  51 non-null     bool   \n",
      " 4   unsafe__yoy_completions      51 non-null     float64\n",
      " 5   unsafe__yoy_commencements    51 non-null     float64\n",
      " 6   YoY Completions              51 non-null     float64\n",
      " 7   YoY Commencements            51 non-null     float64\n",
      " 8   unsafe__qoq_completions      51 non-null     float64\n",
      " 9   unsafe__qoq_commencements    51 non-null     float64\n",
      " 10  QoQ Completions              51 non-null     float64\n",
      " 11  QoQ Commencements            51 non-null     float64\n",
      "dtypes: bool(1), float64(8), int64(2), object(1)\n",
      "memory usage: 4.6+ KB\n"
     ]
    }
   ],
   "source": [
    "dublin_housing.info()"
   ]
  },
  {
   "cell_type": "markdown",
   "id": "41e4b9d2-959d-46bf-8840-fe5f30543cdf",
   "metadata": {},
   "source": [
    "## Data Visualisation"
   ]
  },
  {
   "cell_type": "markdown",
   "id": "cc2d3996-51a2-45c6-9479-1a4b4b57c2af",
   "metadata": {},
   "source": [
    "### Visualisation 1"
   ]
  },
  {
   "cell_type": "code",
   "execution_count": 20,
   "id": "ccb520ad-e930-4552-bf21-9d353c417f8b",
   "metadata": {},
   "outputs": [
    {
     "data": {
      "application/vnd.plotly.v1+json": {
       "config": {
        "plotlyServerURL": "https://plot.ly"
       },
       "data": [
        {
         "hovertemplate": "variable=Completions NEW<br>Quarter=%{x}<br>value=%{y}<extra></extra>",
         "legendgroup": "Completions NEW",
         "line": {
          "color": "#636efa",
          "dash": "solid"
         },
         "marker": {
          "symbol": "circle"
         },
         "mode": "lines",
         "name": "Completions NEW",
         "orientation": "v",
         "showlegend": true,
         "type": "scatter",
         "x": [
          "Q1 12",
          "Q2 12",
          "Q3 12",
          "Q4 12",
          "Q1 13",
          "Q2 13",
          "Q3 13",
          "Q4 13",
          "Q1 14",
          "Q2 14",
          "Q3 14",
          "Q4 14",
          "Q1 15",
          "Q2 15",
          "Q3 15",
          "Q4 15",
          "Q1 16",
          "Q2 16",
          "Q3 16",
          "Q4 16",
          "Q1 17",
          "Q2 17",
          "Q3 17",
          "Q4 17",
          "Q1 18",
          "Q2 18",
          "Q3 18",
          "Q4 18",
          "Q1 19",
          "Q2 19",
          "Q3 19",
          "Q4 19",
          "Q1 20",
          "Q2 20",
          "Q3 20",
          "Q4 20",
          "Q1 21",
          "Q2 21",
          "Q3 21",
          "Q4 21",
          "Q1 22",
          "Q2 22",
          "Q3 22",
          "Q4 22",
          "Q1 23",
          "Q2 23",
          "Q3 23",
          "Q4 23",
          "Q1 24",
          "Q2 24",
          "Q3 24"
         ],
         "xaxis": "x",
         "y": [
          128,
          107,
          150,
          185,
          131,
          197,
          188,
          283,
          350,
          471,
          448,
          432,
          517,
          468,
          584,
          543,
          918,
          901,
          868,
          879,
          1206,
          1344,
          1564,
          1406,
          1385,
          1919,
          1917,
          1625,
          1696,
          1571,
          2010,
          1650,
          1896,
          888,
          1136,
          1995,
          1170,
          1638,
          1278,
          2004,
          2495,
          2905,
          2702,
          2333,
          2922,
          2526,
          3686,
          3362,
          2184,
          2250,
          3862
         ],
         "yaxis": "y"
        },
        {
         "hovertemplate": "variable=Commencements<br>Quarter=%{x}<br>value=%{y}<extra></extra>",
         "legendgroup": "Commencements",
         "line": {
          "color": "#EF553B",
          "dash": "solid"
         },
         "marker": {
          "symbol": "circle"
         },
         "mode": "lines",
         "name": "Commencements",
         "orientation": "v",
         "showlegend": true,
         "type": "scatter",
         "x": [
          "Q1 12",
          "Q2 12",
          "Q3 12",
          "Q4 12",
          "Q1 13",
          "Q2 13",
          "Q3 13",
          "Q4 13",
          "Q1 14",
          "Q2 14",
          "Q3 14",
          "Q4 14",
          "Q1 15",
          "Q2 15",
          "Q3 15",
          "Q4 15",
          "Q1 16",
          "Q2 16",
          "Q3 16",
          "Q4 16",
          "Q1 17",
          "Q2 17",
          "Q3 17",
          "Q4 17",
          "Q1 18",
          "Q2 18",
          "Q3 18",
          "Q4 18",
          "Q1 19",
          "Q2 19",
          "Q3 19",
          "Q4 19",
          "Q1 20",
          "Q2 20",
          "Q3 20",
          "Q4 20",
          "Q1 21",
          "Q2 21",
          "Q3 21",
          "Q4 21",
          "Q1 22",
          "Q2 22",
          "Q3 22",
          "Q4 22",
          "Q1 23",
          "Q2 23",
          "Q3 23",
          "Q4 23",
          "Q1 24",
          "Q2 24",
          "Q3 24"
         ],
         "xaxis": "x",
         "y": [
          43,
          391,
          89,
          243,
          254,
          182,
          487,
          528,
          1575,
          144,
          311,
          420,
          469,
          898,
          1218,
          1301,
          1552,
          1093,
          897,
          1862,
          1465,
          2196,
          1686,
          1640,
          1433,
          1950,
          2084,
          2240,
          2237,
          1589,
          2648,
          2524,
          3218,
          1154,
          1935,
          1886,
          395,
          5013,
          3596,
          1932,
          1855,
          2704,
          2653,
          2435,
          2747,
          3577,
          3267,
          4002,
          4347,
          7562,
          6056
         ],
         "yaxis": "y"
        }
       ],
       "layout": {
        "autosize": true,
        "legend": {
         "title": {
          "text": "variable"
         },
         "tracegroupgap": 0
        },
        "template": {
         "data": {
          "bar": [
           {
            "error_x": {
             "color": "#2a3f5f"
            },
            "error_y": {
             "color": "#2a3f5f"
            },
            "marker": {
             "line": {
              "color": "#E5ECF6",
              "width": 0.5
             },
             "pattern": {
              "fillmode": "overlay",
              "size": 10,
              "solidity": 0.2
             }
            },
            "type": "bar"
           }
          ],
          "barpolar": [
           {
            "marker": {
             "line": {
              "color": "#E5ECF6",
              "width": 0.5
             },
             "pattern": {
              "fillmode": "overlay",
              "size": 10,
              "solidity": 0.2
             }
            },
            "type": "barpolar"
           }
          ],
          "carpet": [
           {
            "aaxis": {
             "endlinecolor": "#2a3f5f",
             "gridcolor": "white",
             "linecolor": "white",
             "minorgridcolor": "white",
             "startlinecolor": "#2a3f5f"
            },
            "baxis": {
             "endlinecolor": "#2a3f5f",
             "gridcolor": "white",
             "linecolor": "white",
             "minorgridcolor": "white",
             "startlinecolor": "#2a3f5f"
            },
            "type": "carpet"
           }
          ],
          "choropleth": [
           {
            "colorbar": {
             "outlinewidth": 0,
             "ticks": ""
            },
            "type": "choropleth"
           }
          ],
          "contour": [
           {
            "colorbar": {
             "outlinewidth": 0,
             "ticks": ""
            },
            "colorscale": [
             [
              0,
              "#0d0887"
             ],
             [
              0.1111111111111111,
              "#46039f"
             ],
             [
              0.2222222222222222,
              "#7201a8"
             ],
             [
              0.3333333333333333,
              "#9c179e"
             ],
             [
              0.4444444444444444,
              "#bd3786"
             ],
             [
              0.5555555555555556,
              "#d8576b"
             ],
             [
              0.6666666666666666,
              "#ed7953"
             ],
             [
              0.7777777777777778,
              "#fb9f3a"
             ],
             [
              0.8888888888888888,
              "#fdca26"
             ],
             [
              1,
              "#f0f921"
             ]
            ],
            "type": "contour"
           }
          ],
          "contourcarpet": [
           {
            "colorbar": {
             "outlinewidth": 0,
             "ticks": ""
            },
            "type": "contourcarpet"
           }
          ],
          "heatmap": [
           {
            "colorbar": {
             "outlinewidth": 0,
             "ticks": ""
            },
            "colorscale": [
             [
              0,
              "#0d0887"
             ],
             [
              0.1111111111111111,
              "#46039f"
             ],
             [
              0.2222222222222222,
              "#7201a8"
             ],
             [
              0.3333333333333333,
              "#9c179e"
             ],
             [
              0.4444444444444444,
              "#bd3786"
             ],
             [
              0.5555555555555556,
              "#d8576b"
             ],
             [
              0.6666666666666666,
              "#ed7953"
             ],
             [
              0.7777777777777778,
              "#fb9f3a"
             ],
             [
              0.8888888888888888,
              "#fdca26"
             ],
             [
              1,
              "#f0f921"
             ]
            ],
            "type": "heatmap"
           }
          ],
          "heatmapgl": [
           {
            "colorbar": {
             "outlinewidth": 0,
             "ticks": ""
            },
            "colorscale": [
             [
              0,
              "#0d0887"
             ],
             [
              0.1111111111111111,
              "#46039f"
             ],
             [
              0.2222222222222222,
              "#7201a8"
             ],
             [
              0.3333333333333333,
              "#9c179e"
             ],
             [
              0.4444444444444444,
              "#bd3786"
             ],
             [
              0.5555555555555556,
              "#d8576b"
             ],
             [
              0.6666666666666666,
              "#ed7953"
             ],
             [
              0.7777777777777778,
              "#fb9f3a"
             ],
             [
              0.8888888888888888,
              "#fdca26"
             ],
             [
              1,
              "#f0f921"
             ]
            ],
            "type": "heatmapgl"
           }
          ],
          "histogram": [
           {
            "marker": {
             "pattern": {
              "fillmode": "overlay",
              "size": 10,
              "solidity": 0.2
             }
            },
            "type": "histogram"
           }
          ],
          "histogram2d": [
           {
            "colorbar": {
             "outlinewidth": 0,
             "ticks": ""
            },
            "colorscale": [
             [
              0,
              "#0d0887"
             ],
             [
              0.1111111111111111,
              "#46039f"
             ],
             [
              0.2222222222222222,
              "#7201a8"
             ],
             [
              0.3333333333333333,
              "#9c179e"
             ],
             [
              0.4444444444444444,
              "#bd3786"
             ],
             [
              0.5555555555555556,
              "#d8576b"
             ],
             [
              0.6666666666666666,
              "#ed7953"
             ],
             [
              0.7777777777777778,
              "#fb9f3a"
             ],
             [
              0.8888888888888888,
              "#fdca26"
             ],
             [
              1,
              "#f0f921"
             ]
            ],
            "type": "histogram2d"
           }
          ],
          "histogram2dcontour": [
           {
            "colorbar": {
             "outlinewidth": 0,
             "ticks": ""
            },
            "colorscale": [
             [
              0,
              "#0d0887"
             ],
             [
              0.1111111111111111,
              "#46039f"
             ],
             [
              0.2222222222222222,
              "#7201a8"
             ],
             [
              0.3333333333333333,
              "#9c179e"
             ],
             [
              0.4444444444444444,
              "#bd3786"
             ],
             [
              0.5555555555555556,
              "#d8576b"
             ],
             [
              0.6666666666666666,
              "#ed7953"
             ],
             [
              0.7777777777777778,
              "#fb9f3a"
             ],
             [
              0.8888888888888888,
              "#fdca26"
             ],
             [
              1,
              "#f0f921"
             ]
            ],
            "type": "histogram2dcontour"
           }
          ],
          "mesh3d": [
           {
            "colorbar": {
             "outlinewidth": 0,
             "ticks": ""
            },
            "type": "mesh3d"
           }
          ],
          "parcoords": [
           {
            "line": {
             "colorbar": {
              "outlinewidth": 0,
              "ticks": ""
             }
            },
            "type": "parcoords"
           }
          ],
          "pie": [
           {
            "automargin": true,
            "type": "pie"
           }
          ],
          "scatter": [
           {
            "fillpattern": {
             "fillmode": "overlay",
             "size": 10,
             "solidity": 0.2
            },
            "type": "scatter"
           }
          ],
          "scatter3d": [
           {
            "line": {
             "colorbar": {
              "outlinewidth": 0,
              "ticks": ""
             }
            },
            "marker": {
             "colorbar": {
              "outlinewidth": 0,
              "ticks": ""
             }
            },
            "type": "scatter3d"
           }
          ],
          "scattercarpet": [
           {
            "marker": {
             "colorbar": {
              "outlinewidth": 0,
              "ticks": ""
             }
            },
            "type": "scattercarpet"
           }
          ],
          "scattergeo": [
           {
            "marker": {
             "colorbar": {
              "outlinewidth": 0,
              "ticks": ""
             }
            },
            "type": "scattergeo"
           }
          ],
          "scattergl": [
           {
            "marker": {
             "colorbar": {
              "outlinewidth": 0,
              "ticks": ""
             }
            },
            "type": "scattergl"
           }
          ],
          "scattermapbox": [
           {
            "marker": {
             "colorbar": {
              "outlinewidth": 0,
              "ticks": ""
             }
            },
            "type": "scattermapbox"
           }
          ],
          "scatterpolar": [
           {
            "marker": {
             "colorbar": {
              "outlinewidth": 0,
              "ticks": ""
             }
            },
            "type": "scatterpolar"
           }
          ],
          "scatterpolargl": [
           {
            "marker": {
             "colorbar": {
              "outlinewidth": 0,
              "ticks": ""
             }
            },
            "type": "scatterpolargl"
           }
          ],
          "scatterternary": [
           {
            "marker": {
             "colorbar": {
              "outlinewidth": 0,
              "ticks": ""
             }
            },
            "type": "scatterternary"
           }
          ],
          "surface": [
           {
            "colorbar": {
             "outlinewidth": 0,
             "ticks": ""
            },
            "colorscale": [
             [
              0,
              "#0d0887"
             ],
             [
              0.1111111111111111,
              "#46039f"
             ],
             [
              0.2222222222222222,
              "#7201a8"
             ],
             [
              0.3333333333333333,
              "#9c179e"
             ],
             [
              0.4444444444444444,
              "#bd3786"
             ],
             [
              0.5555555555555556,
              "#d8576b"
             ],
             [
              0.6666666666666666,
              "#ed7953"
             ],
             [
              0.7777777777777778,
              "#fb9f3a"
             ],
             [
              0.8888888888888888,
              "#fdca26"
             ],
             [
              1,
              "#f0f921"
             ]
            ],
            "type": "surface"
           }
          ],
          "table": [
           {
            "cells": {
             "fill": {
              "color": "#EBF0F8"
             },
             "line": {
              "color": "white"
             }
            },
            "header": {
             "fill": {
              "color": "#C8D4E3"
             },
             "line": {
              "color": "white"
             }
            },
            "type": "table"
           }
          ]
         },
         "layout": {
          "annotationdefaults": {
           "arrowcolor": "#2a3f5f",
           "arrowhead": 0,
           "arrowwidth": 1
          },
          "autotypenumbers": "strict",
          "coloraxis": {
           "colorbar": {
            "outlinewidth": 0,
            "ticks": ""
           }
          },
          "colorscale": {
           "diverging": [
            [
             0,
             "#8e0152"
            ],
            [
             0.1,
             "#c51b7d"
            ],
            [
             0.2,
             "#de77ae"
            ],
            [
             0.3,
             "#f1b6da"
            ],
            [
             0.4,
             "#fde0ef"
            ],
            [
             0.5,
             "#f7f7f7"
            ],
            [
             0.6,
             "#e6f5d0"
            ],
            [
             0.7,
             "#b8e186"
            ],
            [
             0.8,
             "#7fbc41"
            ],
            [
             0.9,
             "#4d9221"
            ],
            [
             1,
             "#276419"
            ]
           ],
           "sequential": [
            [
             0,
             "#0d0887"
            ],
            [
             0.1111111111111111,
             "#46039f"
            ],
            [
             0.2222222222222222,
             "#7201a8"
            ],
            [
             0.3333333333333333,
             "#9c179e"
            ],
            [
             0.4444444444444444,
             "#bd3786"
            ],
            [
             0.5555555555555556,
             "#d8576b"
            ],
            [
             0.6666666666666666,
             "#ed7953"
            ],
            [
             0.7777777777777778,
             "#fb9f3a"
            ],
            [
             0.8888888888888888,
             "#fdca26"
            ],
            [
             1,
             "#f0f921"
            ]
           ],
           "sequentialminus": [
            [
             0,
             "#0d0887"
            ],
            [
             0.1111111111111111,
             "#46039f"
            ],
            [
             0.2222222222222222,
             "#7201a8"
            ],
            [
             0.3333333333333333,
             "#9c179e"
            ],
            [
             0.4444444444444444,
             "#bd3786"
            ],
            [
             0.5555555555555556,
             "#d8576b"
            ],
            [
             0.6666666666666666,
             "#ed7953"
            ],
            [
             0.7777777777777778,
             "#fb9f3a"
            ],
            [
             0.8888888888888888,
             "#fdca26"
            ],
            [
             1,
             "#f0f921"
            ]
           ]
          },
          "colorway": [
           "#636efa",
           "#EF553B",
           "#00cc96",
           "#ab63fa",
           "#FFA15A",
           "#19d3f3",
           "#FF6692",
           "#B6E880",
           "#FF97FF",
           "#FECB52"
          ],
          "font": {
           "color": "#2a3f5f"
          },
          "geo": {
           "bgcolor": "white",
           "lakecolor": "white",
           "landcolor": "#E5ECF6",
           "showlakes": true,
           "showland": true,
           "subunitcolor": "white"
          },
          "hoverlabel": {
           "align": "left"
          },
          "hovermode": "closest",
          "mapbox": {
           "style": "light"
          },
          "paper_bgcolor": "white",
          "plot_bgcolor": "#E5ECF6",
          "polar": {
           "angularaxis": {
            "gridcolor": "white",
            "linecolor": "white",
            "ticks": ""
           },
           "bgcolor": "#E5ECF6",
           "radialaxis": {
            "gridcolor": "white",
            "linecolor": "white",
            "ticks": ""
           }
          },
          "scene": {
           "xaxis": {
            "backgroundcolor": "#E5ECF6",
            "gridcolor": "white",
            "gridwidth": 2,
            "linecolor": "white",
            "showbackground": true,
            "ticks": "",
            "zerolinecolor": "white"
           },
           "yaxis": {
            "backgroundcolor": "#E5ECF6",
            "gridcolor": "white",
            "gridwidth": 2,
            "linecolor": "white",
            "showbackground": true,
            "ticks": "",
            "zerolinecolor": "white"
           },
           "zaxis": {
            "backgroundcolor": "#E5ECF6",
            "gridcolor": "white",
            "gridwidth": 2,
            "linecolor": "white",
            "showbackground": true,
            "ticks": "",
            "zerolinecolor": "white"
           }
          },
          "shapedefaults": {
           "line": {
            "color": "#2a3f5f"
           }
          },
          "ternary": {
           "aaxis": {
            "gridcolor": "white",
            "linecolor": "white",
            "ticks": ""
           },
           "baxis": {
            "gridcolor": "white",
            "linecolor": "white",
            "ticks": ""
           },
           "bgcolor": "#E5ECF6",
           "caxis": {
            "gridcolor": "white",
            "linecolor": "white",
            "ticks": ""
           }
          },
          "title": {
           "x": 0.05
          },
          "xaxis": {
           "automargin": true,
           "gridcolor": "white",
           "linecolor": "white",
           "ticks": "",
           "title": {
            "standoff": 15
           },
           "zerolinecolor": "white",
           "zerolinewidth": 2
          },
          "yaxis": {
           "automargin": true,
           "gridcolor": "white",
           "linecolor": "white",
           "ticks": "",
           "title": {
            "standoff": 15
           },
           "zerolinecolor": "white",
           "zerolinewidth": 2
          }
         }
        },
        "title": {
         "text": "Completions vs Commencements in Dublin"
        },
        "xaxis": {
         "anchor": "y",
         "autorange": true,
         "domain": [
          0,
          1
         ],
         "range": [
          0,
          50
         ],
         "title": {
          "text": "Quarter"
         },
         "type": "category"
        },
        "yaxis": {
         "anchor": "x",
         "autorange": true,
         "domain": [
          0,
          1
         ],
         "range": [
          -374.7222222222222,
          7979.722222222223
         ],
         "title": {
          "text": "Count"
         },
         "type": "linear"
        }
       }
      },
      "image/png": "[encoded data removed]",
      "text/html": [
       "<div>                            <div id=\"bc7199c5-c5fe-494d-a55b-1287d71ac443\" class=\"plotly-graph-div\" style=\"height:525px; width:100%;\"></div>            <script type=\"text/javascript\">                require([\"plotly\"], function(Plotly) {                    window.PLOTLYENV=window.PLOTLYENV || {};                                    if (document.getElementById(\"bc7199c5-c5fe-494d-a55b-1287d71ac443\")) {                    Plotly.newPlot(                        \"bc7199c5-c5fe-494d-a55b-1287d71ac443\",                        [{\"hovertemplate\":\"variable=Completions NEW\\u003cbr\\u003eQuarter=%{x}\\u003cbr\\u003evalue=%{y}\\u003cextra\\u003e\\u003c\\u002fextra\\u003e\",\"legendgroup\":\"Completions NEW\",\"line\":{\"color\":\"#636efa\",\"dash\":\"solid\"},\"marker\":{\"symbol\":\"circle\"},\"mode\":\"lines\",\"name\":\"Completions NEW\",\"orientation\":\"v\",\"showlegend\":true,\"x\":[\"Q1 12\",\"Q2 12\",\"Q3 12\",\"Q4 12\",\"Q1 13\",\"Q2 13\",\"Q3 13\",\"Q4 13\",\"Q1 14\",\"Q2 14\",\"Q3 14\",\"Q4 14\",\"Q1 15\",\"Q2 15\",\"Q3 15\",\"Q4 15\",\"Q1 16\",\"Q2 16\",\"Q3 16\",\"Q4 16\",\"Q1 17\",\"Q2 17\",\"Q3 17\",\"Q4 17\",\"Q1 18\",\"Q2 18\",\"Q3 18\",\"Q4 18\",\"Q1 19\",\"Q2 19\",\"Q3 19\",\"Q4 19\",\"Q1 20\",\"Q2 20\",\"Q3 20\",\"Q4 20\",\"Q1 21\",\"Q2 21\",\"Q3 21\",\"Q4 21\",\"Q1 22\",\"Q2 22\",\"Q3 22\",\"Q4 22\",\"Q1 23\",\"Q2 23\",\"Q3 23\",\"Q4 23\",\"Q1 24\",\"Q2 24\",\"Q3 24\"],\"xaxis\":\"x\",\"y\":[128,107,150,185,131,197,188,283,350,471,448,432,517,468,584,543,918,901,868,879,1206,1344,1564,1406,1385,1919,1917,1625,1696,1571,2010,1650,1896,888,1136,1995,1170,1638,1278,2004,2495,2905,2702,2333,2922,2526,3686,3362,2184,2250,3862],\"yaxis\":\"y\",\"type\":\"scatter\"},{\"hovertemplate\":\"variable=Commencements\\u003cbr\\u003eQuarter=%{x}\\u003cbr\\u003evalue=%{y}\\u003cextra\\u003e\\u003c\\u002fextra\\u003e\",\"legendgroup\":\"Commencements\",\"line\":{\"color\":\"#EF553B\",\"dash\":\"solid\"},\"marker\":{\"symbol\":\"circle\"},\"mode\":\"lines\",\"name\":\"Commencements\",\"orientation\":\"v\",\"showlegend\":true,\"x\":[\"Q1 12\",\"Q2 12\",\"Q3 12\",\"Q4 12\",\"Q1 13\",\"Q2 13\",\"Q3 13\",\"Q4 13\",\"Q1 14\",\"Q2 14\",\"Q3 14\",\"Q4 14\",\"Q1 15\",\"Q2 15\",\"Q3 15\",\"Q4 15\",\"Q1 16\",\"Q2 16\",\"Q3 16\",\"Q4 16\",\"Q1 17\",\"Q2 17\",\"Q3 17\",\"Q4 17\",\"Q1 18\",\"Q2 18\",\"Q3 18\",\"Q4 18\",\"Q1 19\",\"Q2 19\",\"Q3 19\",\"Q4 19\",\"Q1 20\",\"Q2 20\",\"Q3 20\",\"Q4 20\",\"Q1 21\",\"Q2 21\",\"Q3 21\",\"Q4 21\",\"Q1 22\",\"Q2 22\",\"Q3 22\",\"Q4 22\",\"Q1 23\",\"Q2 23\",\"Q3 23\",\"Q4 23\",\"Q1 24\",\"Q2 24\",\"Q3 24\"],\"xaxis\":\"x\",\"y\":[43,391,89,243,254,182,487,528,1575,144,311,420,469,898,1218,1301,1552,1093,897,1862,1465,2196,1686,1640,1433,1950,2084,2240,2237,1589,2648,2524,3218,1154,1935,1886,395,5013,3596,1932,1855,2704,2653,2435,2747,3577,3267,4002,4347,7562,6056],\"yaxis\":\"y\",\"type\":\"scatter\"}],                        {\"template\":{\"data\":{\"histogram2dcontour\":[{\"type\":\"histogram2dcontour\",\"colorbar\":{\"outlinewidth\":0,\"ticks\":\"\"},\"colorscale\":[[0.0,\"#0d0887\"],[0.1111111111111111,\"#46039f\"],[0.2222222222222222,\"#7201a8\"],[0.3333333333333333,\"#9c179e\"],[0.4444444444444444,\"#bd3786\"],[0.5555555555555556,\"#d8576b\"],[0.6666666666666666,\"#ed7953\"],[0.7777777777777778,\"#fb9f3a\"],[0.8888888888888888,\"#fdca26\"],[1.0,\"#f0f921\"]]}],\"choropleth\":[{\"type\":\"choropleth\",\"colorbar\":{\"outlinewidth\":0,\"ticks\":\"\"}}],\"histogram2d\":[{\"type\":\"histogram2d\",\"colorbar\":{\"outlinewidth\":0,\"ticks\":\"\"},\"colorscale\":[[0.0,\"#0d0887\"],[0.1111111111111111,\"#46039f\"],[0.2222222222222222,\"#7201a8\"],[0.3333333333333333,\"#9c179e\"],[0.4444444444444444,\"#bd3786\"],[0.5555555555555556,\"#d8576b\"],[0.6666666666666666,\"#ed7953\"],[0.7777777777777778,\"#fb9f3a\"],[0.8888888888888888,\"#fdca26\"],[1.0,\"#f0f921\"]]}],\"heatmap\":[{\"type\":\"heatmap\",\"colorbar\":{\"outlinewidth\":0,\"ticks\":\"\"},\"colorscale\":[[0.0,\"#0d0887\"],[0.1111111111111111,\"#46039f\"],[0.2222222222222222,\"#7201a8\"],[0.3333333333333333,\"#9c179e\"],[0.4444444444444444,\"#bd3786\"],[0.5555555555555556,\"#d8576b\"],[0.6666666666666666,\"#ed7953\"],[0.7777777777777778,\"#fb9f3a\"],[0.8888888888888888,\"#fdca26\"],[1.0,\"#f0f921\"]]}],\"heatmapgl\":[{\"type\":\"heatmapgl\",\"colorbar\":{\"outlinewidth\":0,\"ticks\":\"\"},\"colorscale\":[[0.0,\"#0d0887\"],[0.1111111111111111,\"#46039f\"],[0.2222222222222222,\"#7201a8\"],[0.3333333333333333,\"#9c179e\"],[0.4444444444444444,\"#bd3786\"],[0.5555555555555556,\"#d8576b\"],[0.6666666666666666,\"#ed7953\"],[0.7777777777777778,\"#fb9f3a\"],[0.8888888888888888,\"#fdca26\"],[1.0,\"#f0f921\"]]}],\"contourcarpet\":[{\"type\":\"contourcarpet\",\"colorbar\":{\"outlinewidth\":0,\"ticks\":\"\"}}],\"contour\":[{\"type\":\"contour\",\"colorbar\":{\"outlinewidth\":0,\"ticks\":\"\"},\"colorscale\":[[0.0,\"#0d0887\"],[0.1111111111111111,\"#46039f\"],[0.2222222222222222,\"#7201a8\"],[0.3333333333333333,\"#9c179e\"],[0.4444444444444444,\"#bd3786\"],[0.5555555555555556,\"#d8576b\"],[0.6666666666666666,\"#ed7953\"],[0.7777777777777778,\"#fb9f3a\"],[0.8888888888888888,\"#fdca26\"],[1.0,\"#f0f921\"]]}],\"surface\":[{\"type\":\"surface\",\"colorbar\":{\"outlinewidth\":0,\"ticks\":\"\"},\"colorscale\":[[0.0,\"#0d0887\"],[0.1111111111111111,\"#46039f\"],[0.2222222222222222,\"#7201a8\"],[0.3333333333333333,\"#9c179e\"],[0.4444444444444444,\"#bd3786\"],[0.5555555555555556,\"#d8576b\"],[0.6666666666666666,\"#ed7953\"],[0.7777777777777778,\"#fb9f3a\"],[0.8888888888888888,\"#fdca26\"],[1.0,\"#f0f921\"]]}],\"mesh3d\":[{\"type\":\"mesh3d\",\"colorbar\":{\"outlinewidth\":0,\"ticks\":\"\"}}],\"scatter\":[{\"fillpattern\":{\"fillmode\":\"overlay\",\"size\":10,\"solidity\":0.2},\"type\":\"scatter\"}],\"parcoords\":[{\"type\":\"parcoords\",\"line\":{\"colorbar\":{\"outlinewidth\":0,\"ticks\":\"\"}}}],\"scatterpolargl\":[{\"type\":\"scatterpolargl\",\"marker\":{\"colorbar\":{\"outlinewidth\":0,\"ticks\":\"\"}}}],\"bar\":[{\"error_x\":{\"color\":\"#2a3f5f\"},\"error_y\":{\"color\":\"#2a3f5f\"},\"marker\":{\"line\":{\"color\":\"#E5ECF6\",\"width\":0.5},\"pattern\":{\"fillmode\":\"overlay\",\"size\":10,\"solidity\":0.2}},\"type\":\"bar\"}],\"scattergeo\":[{\"type\":\"scattergeo\",\"marker\":{\"colorbar\":{\"outlinewidth\":0,\"ticks\":\"\"}}}],\"scatterpolar\":[{\"type\":\"scatterpolar\",\"marker\":{\"colorbar\":{\"outlinewidth\":0,\"ticks\":\"\"}}}],\"histogram\":[{\"marker\":{\"pattern\":{\"fillmode\":\"overlay\",\"size\":10,\"solidity\":0.2}},\"type\":\"histogram\"}],\"scattergl\":[{\"type\":\"scattergl\",\"marker\":{\"colorbar\":{\"outlinewidth\":0,\"ticks\":\"\"}}}],\"scatter3d\":[{\"type\":\"scatter3d\",\"line\":{\"colorbar\":{\"outlinewidth\":0,\"ticks\":\"\"}},\"marker\":{\"colorbar\":{\"outlinewidth\":0,\"ticks\":\"\"}}}],\"scattermapbox\":[{\"type\":\"scattermapbox\",\"marker\":{\"colorbar\":{\"outlinewidth\":0,\"ticks\":\"\"}}}],\"scatterternary\":[{\"type\":\"scatterternary\",\"marker\":{\"colorbar\":{\"outlinewidth\":0,\"ticks\":\"\"}}}],\"scattercarpet\":[{\"type\":\"scattercarpet\",\"marker\":{\"colorbar\":{\"outlinewidth\":0,\"ticks\":\"\"}}}],\"carpet\":[{\"aaxis\":{\"endlinecolor\":\"#2a3f5f\",\"gridcolor\":\"white\",\"linecolor\":\"white\",\"minorgridcolor\":\"white\",\"startlinecolor\":\"#2a3f5f\"},\"baxis\":{\"endlinecolor\":\"#2a3f5f\",\"gridcolor\":\"white\",\"linecolor\":\"white\",\"minorgridcolor\":\"white\",\"startlinecolor\":\"#2a3f5f\"},\"type\":\"carpet\"}],\"table\":[{\"cells\":{\"fill\":{\"color\":\"#EBF0F8\"},\"line\":{\"color\":\"white\"}},\"header\":{\"fill\":{\"color\":\"#C8D4E3\"},\"line\":{\"color\":\"white\"}},\"type\":\"table\"}],\"barpolar\":[{\"marker\":{\"line\":{\"color\":\"#E5ECF6\",\"width\":0.5},\"pattern\":{\"fillmode\":\"overlay\",\"size\":10,\"solidity\":0.2}},\"type\":\"barpolar\"}],\"pie\":[{\"automargin\":true,\"type\":\"pie\"}]},\"layout\":{\"autotypenumbers\":\"strict\",\"colorway\":[\"#636efa\",\"#EF553B\",\"#00cc96\",\"#ab63fa\",\"#FFA15A\",\"#19d3f3\",\"#FF6692\",\"#B6E880\",\"#FF97FF\",\"#FECB52\"],\"font\":{\"color\":\"#2a3f5f\"},\"hovermode\":\"closest\",\"hoverlabel\":{\"align\":\"left\"},\"paper_bgcolor\":\"white\",\"plot_bgcolor\":\"#E5ECF6\",\"polar\":{\"bgcolor\":\"#E5ECF6\",\"angularaxis\":{\"gridcolor\":\"white\",\"linecolor\":\"white\",\"ticks\":\"\"},\"radialaxis\":{\"gridcolor\":\"white\",\"linecolor\":\"white\",\"ticks\":\"\"}},\"ternary\":{\"bgcolor\":\"#E5ECF6\",\"aaxis\":{\"gridcolor\":\"white\",\"linecolor\":\"white\",\"ticks\":\"\"},\"baxis\":{\"gridcolor\":\"white\",\"linecolor\":\"white\",\"ticks\":\"\"},\"caxis\":{\"gridcolor\":\"white\",\"linecolor\":\"white\",\"ticks\":\"\"}},\"coloraxis\":{\"colorbar\":{\"outlinewidth\":0,\"ticks\":\"\"}},\"colorscale\":{\"sequential\":[[0.0,\"#0d0887\"],[0.1111111111111111,\"#46039f\"],[0.2222222222222222,\"#7201a8\"],[0.3333333333333333,\"#9c179e\"],[0.4444444444444444,\"#bd3786\"],[0.5555555555555556,\"#d8576b\"],[0.6666666666666666,\"#ed7953\"],[0.7777777777777778,\"#fb9f3a\"],[0.8888888888888888,\"#fdca26\"],[1.0,\"#f0f921\"]],\"sequentialminus\":[[0.0,\"#0d0887\"],[0.1111111111111111,\"#46039f\"],[0.2222222222222222,\"#7201a8\"],[0.3333333333333333,\"#9c179e\"],[0.4444444444444444,\"#bd3786\"],[0.5555555555555556,\"#d8576b\"],[0.6666666666666666,\"#ed7953\"],[0.7777777777777778,\"#fb9f3a\"],[0.8888888888888888,\"#fdca26\"],[1.0,\"#f0f921\"]],\"diverging\":[[0,\"#8e0152\"],[0.1,\"#c51b7d\"],[0.2,\"#de77ae\"],[0.3,\"#f1b6da\"],[0.4,\"#fde0ef\"],[0.5,\"#f7f7f7\"],[0.6,\"#e6f5d0\"],[0.7,\"#b8e186\"],[0.8,\"#7fbc41\"],[0.9,\"#4d9221\"],[1,\"#276419\"]]},\"xaxis\":{\"gridcolor\":\"white\",\"linecolor\":\"white\",\"ticks\":\"\",\"title\":{\"standoff\":15},\"zerolinecolor\":\"white\",\"automargin\":true,\"zerolinewidth\":2},\"yaxis\":{\"gridcolor\":\"white\",\"linecolor\":\"white\",\"ticks\":\"\",\"title\":{\"standoff\":15},\"zerolinecolor\":\"white\",\"automargin\":true,\"zerolinewidth\":2},\"scene\":{\"xaxis\":{\"backgroundcolor\":\"#E5ECF6\",\"gridcolor\":\"white\",\"linecolor\":\"white\",\"showbackground\":true,\"ticks\":\"\",\"zerolinecolor\":\"white\",\"gridwidth\":2},\"yaxis\":{\"backgroundcolor\":\"#E5ECF6\",\"gridcolor\":\"white\",\"linecolor\":\"white\",\"showbackground\":true,\"ticks\":\"\",\"zerolinecolor\":\"white\",\"gridwidth\":2},\"zaxis\":{\"backgroundcolor\":\"#E5ECF6\",\"gridcolor\":\"white\",\"linecolor\":\"white\",\"showbackground\":true,\"ticks\":\"\",\"zerolinecolor\":\"white\",\"gridwidth\":2}},\"shapedefaults\":{\"line\":{\"color\":\"#2a3f5f\"}},\"annotationdefaults\":{\"arrowcolor\":\"#2a3f5f\",\"arrowhead\":0,\"arrowwidth\":1},\"geo\":{\"bgcolor\":\"white\",\"landcolor\":\"#E5ECF6\",\"subunitcolor\":\"white\",\"showland\":true,\"showlakes\":true,\"lakecolor\":\"white\"},\"title\":{\"x\":0.05},\"mapbox\":{\"style\":\"light\"}}},\"xaxis\":{\"anchor\":\"y\",\"domain\":[0.0,1.0],\"title\":{\"text\":\"Quarter\"}},\"yaxis\":{\"anchor\":\"x\",\"domain\":[0.0,1.0],\"title\":{\"text\":\"Count\"}},\"legend\":{\"title\":{\"text\":\"variable\"},\"tracegroupgap\":0},\"title\":{\"text\":\"Completions vs Commencements in Dublin\"}},                        {\"responsive\": true}                    ).then(function(){\n",
       "                            \n",
       "var gd = document.getElementById('bc7199c5-c5fe-494d-a55b-1287d71ac443');\n",
       "var x = new MutationObserver(function (mutations, observer) {{\n",
       "        var display = window.getComputedStyle(gd).display;\n",
       "        if (!display || display === 'none') {{\n",
       "            console.log([gd, 'removed!']);\n",
       "            Plotly.purge(gd);\n",
       "            observer.disconnect();\n",
       "        }}\n",
       "}});\n",
       "\n",
       "// Listen for the removal of the full notebook cells\n",
       "var notebookContainer = gd.closest('#notebook-container');\n",
       "if (notebookContainer) {{\n",
       "    x.observe(notebookContainer, {childList: true});\n",
       "}}\n",
       "\n",
       "// Listen for the clearing of the current output cell\n",
       "var outputEl = gd.closest('.output');\n",
       "if (outputEl) {{\n",
       "    x.observe(outputEl, {childList: true});\n",
       "}}\n",
       "\n",
       "                        })                };                });            </script>        </div>"
      ]
     },
     "metadata": {},
     "output_type": "display_data"
    }
   ],
   "source": [
    "x = dublin_housing['Quarter']\n",
    "y = dublin_housing.columns\n",
    "chart_type = \"line\" # 'line', 'bar', 'scatter'\n",
    "title=\"Completions vs Commencements in Dublin\"\n",
    "y_axis_label=\"Count\"\n",
    "fig = dt.visualize_data(dublin_housing, x, y[1:3], chart_type, title, y_axis_label)\n",
    "fig.show()"
   ]
  },
  {
   "cell_type": "markdown",
   "id": "2041eb6a-3865-4ad7-a95b-21ffb580785a",
   "metadata": {},
   "source": [
    "### Visualisation 2"
   ]
  },
  {
   "cell_type": "code",
   "execution_count": 21,
   "id": "fcf30d6b-be81-4fbc-befc-a14471210a34",
   "metadata": {},
   "outputs": [
    {
     "data": {
      "application/vnd.plotly.v1+json": {
       "config": {
        "plotlyServerURL": "https://plot.ly"
       },
       "data": [
        {
         "alignmentgroup": "True",
         "hovertemplate": "variable=Completions NEW<br>Quarter=%{x}<br>value=%{y}<extra></extra>",
         "legendgroup": "Completions NEW",
         "marker": {
          "color": "#636efa",
          "pattern": {
           "shape": ""
          }
         },
         "name": "Completions NEW",
         "offsetgroup": "Completions NEW",
         "orientation": "v",
         "showlegend": true,
         "textposition": "auto",
         "type": "bar",
         "x": [
          "Q1 12",
          "Q2 12",
          "Q3 12",
          "Q4 12",
          "Q1 13",
          "Q2 13",
          "Q3 13",
          "Q4 13",
          "Q1 14",
          "Q2 14",
          "Q3 14",
          "Q4 14",
          "Q1 15",
          "Q2 15",
          "Q3 15",
          "Q4 15",
          "Q1 16",
          "Q2 16",
          "Q3 16",
          "Q4 16",
          "Q1 17",
          "Q2 17",
          "Q3 17",
          "Q4 17",
          "Q1 18",
          "Q2 18",
          "Q3 18",
          "Q4 18",
          "Q1 19",
          "Q2 19",
          "Q3 19",
          "Q4 19",
          "Q1 20",
          "Q2 20",
          "Q3 20",
          "Q4 20",
          "Q1 21",
          "Q2 21",
          "Q3 21",
          "Q4 21",
          "Q1 22",
          "Q2 22",
          "Q3 22",
          "Q4 22",
          "Q1 23",
          "Q2 23",
          "Q3 23",
          "Q4 23",
          "Q1 24",
          "Q2 24",
          "Q3 24"
         ],
         "xaxis": "x",
         "y": [
          128,
          107,
          150,
          185,
          131,
          197,
          188,
          283,
          350,
          471,
          448,
          432,
          517,
          468,
          584,
          543,
          918,
          901,
          868,
          879,
          1206,
          1344,
          1564,
          1406,
          1385,
          1919,
          1917,
          1625,
          1696,
          1571,
          2010,
          1650,
          1896,
          888,
          1136,
          1995,
          1170,
          1638,
          1278,
          2004,
          2495,
          2905,
          2702,
          2333,
          2922,
          2526,
          3686,
          3362,
          2184,
          2250,
          3862
         ],
         "yaxis": "y"
        },
        {
         "alignmentgroup": "True",
         "hovertemplate": "variable=Commencements<br>Quarter=%{x}<br>value=%{y}<extra></extra>",
         "legendgroup": "Commencements",
         "marker": {
          "color": "#EF553B",
          "pattern": {
           "shape": ""
          }
         },
         "name": "Commencements",
         "offsetgroup": "Commencements",
         "orientation": "v",
         "showlegend": true,
         "textposition": "auto",
         "type": "bar",
         "x": [
          "Q1 12",
          "Q2 12",
          "Q3 12",
          "Q4 12",
          "Q1 13",
          "Q2 13",
          "Q3 13",
          "Q4 13",
          "Q1 14",
          "Q2 14",
          "Q3 14",
          "Q4 14",
          "Q1 15",
          "Q2 15",
          "Q3 15",
          "Q4 15",
          "Q1 16",
          "Q2 16",
          "Q3 16",
          "Q4 16",
          "Q1 17",
          "Q2 17",
          "Q3 17",
          "Q4 17",
          "Q1 18",
          "Q2 18",
          "Q3 18",
          "Q4 18",
          "Q1 19",
          "Q2 19",
          "Q3 19",
          "Q4 19",
          "Q1 20",
          "Q2 20",
          "Q3 20",
          "Q4 20",
          "Q1 21",
          "Q2 21",
          "Q3 21",
          "Q4 21",
          "Q1 22",
          "Q2 22",
          "Q3 22",
          "Q4 22",
          "Q1 23",
          "Q2 23",
          "Q3 23",
          "Q4 23",
          "Q1 24",
          "Q2 24",
          "Q3 24"
         ],
         "xaxis": "x",
         "y": [
          43,
          391,
          89,
          243,
          254,
          182,
          487,
          528,
          1575,
          144,
          311,
          420,
          469,
          898,
          1218,
          1301,
          1552,
          1093,
          897,
          1862,
          1465,
          2196,
          1686,
          1640,
          1433,
          1950,
          2084,
          2240,
          2237,
          1589,
          2648,
          2524,
          3218,
          1154,
          1935,
          1886,
          395,
          5013,
          3596,
          1932,
          1855,
          2704,
          2653,
          2435,
          2747,
          3577,
          3267,
          4002,
          4347,
          7562,
          6056
         ],
         "yaxis": "y"
        }
       ],
       "layout": {
        "autosize": true,
        "barmode": "relative",
        "legend": {
         "title": {
          "text": "variable"
         },
         "tracegroupgap": 0
        },
        "template": {
         "data": {
          "bar": [
           {
            "error_x": {
             "color": "#2a3f5f"
            },
            "error_y": {
             "color": "#2a3f5f"
            },
            "marker": {
             "line": {
              "color": "#E5ECF6",
              "width": 0.5
             },
             "pattern": {
              "fillmode": "overlay",
              "size": 10,
              "solidity": 0.2
             }
            },
            "type": "bar"
           }
          ],
          "barpolar": [
           {
            "marker": {
             "line": {
              "color": "#E5ECF6",
              "width": 0.5
             },
             "pattern": {
              "fillmode": "overlay",
              "size": 10,
              "solidity": 0.2
             }
            },
            "type": "barpolar"
           }
          ],
          "carpet": [
           {
            "aaxis": {
             "endlinecolor": "#2a3f5f",
             "gridcolor": "white",
             "linecolor": "white",
             "minorgridcolor": "white",
             "startlinecolor": "#2a3f5f"
            },
            "baxis": {
             "endlinecolor": "#2a3f5f",
             "gridcolor": "white",
             "linecolor": "white",
             "minorgridcolor": "white",
             "startlinecolor": "#2a3f5f"
            },
            "type": "carpet"
           }
          ],
          "choropleth": [
           {
            "colorbar": {
             "outlinewidth": 0,
             "ticks": ""
            },
            "type": "choropleth"
           }
          ],
          "contour": [
           {
            "colorbar": {
             "outlinewidth": 0,
             "ticks": ""
            },
            "colorscale": [
             [
              0,
              "#0d0887"
             ],
             [
              0.1111111111111111,
              "#46039f"
             ],
             [
              0.2222222222222222,
              "#7201a8"
             ],
             [
              0.3333333333333333,
              "#9c179e"
             ],
             [
              0.4444444444444444,
              "#bd3786"
             ],
             [
              0.5555555555555556,
              "#d8576b"
             ],
             [
              0.6666666666666666,
              "#ed7953"
             ],
             [
              0.7777777777777778,
              "#fb9f3a"
             ],
             [
              0.8888888888888888,
              "#fdca26"
             ],
             [
              1,
              "#f0f921"
             ]
            ],
            "type": "contour"
           }
          ],
          "contourcarpet": [
           {
            "colorbar": {
             "outlinewidth": 0,
             "ticks": ""
            },
            "type": "contourcarpet"
           }
          ],
          "heatmap": [
           {
            "colorbar": {
             "outlinewidth": 0,
             "ticks": ""
            },
            "colorscale": [
             [
              0,
              "#0d0887"
             ],
             [
              0.1111111111111111,
              "#46039f"
             ],
             [
              0.2222222222222222,
              "#7201a8"
             ],
             [
              0.3333333333333333,
              "#9c179e"
             ],
             [
              0.4444444444444444,
              "#bd3786"
             ],
             [
              0.5555555555555556,
              "#d8576b"
             ],
             [
              0.6666666666666666,
              "#ed7953"
             ],
             [
              0.7777777777777778,
              "#fb9f3a"
             ],
             [
              0.8888888888888888,
              "#fdca26"
             ],
             [
              1,
              "#f0f921"
             ]
            ],
            "type": "heatmap"
           }
          ],
          "heatmapgl": [
           {
            "colorbar": {
             "outlinewidth": 0,
             "ticks": ""
            },
            "colorscale": [
             [
              0,
              "#0d0887"
             ],
             [
              0.1111111111111111,
              "#46039f"
             ],
             [
              0.2222222222222222,
              "#7201a8"
             ],
             [
              0.3333333333333333,
              "#9c179e"
             ],
             [
              0.4444444444444444,
              "#bd3786"
             ],
             [
              0.5555555555555556,
              "#d8576b"
             ],
             [
              0.6666666666666666,
              "#ed7953"
             ],
             [
              0.7777777777777778,
              "#fb9f3a"
             ],
             [
              0.8888888888888888,
              "#fdca26"
             ],
             [
              1,
              "#f0f921"
             ]
            ],
            "type": "heatmapgl"
           }
          ],
          "histogram": [
           {
            "marker": {
             "pattern": {
              "fillmode": "overlay",
              "size": 10,
              "solidity": 0.2
             }
            },
            "type": "histogram"
           }
          ],
          "histogram2d": [
           {
            "colorbar": {
             "outlinewidth": 0,
             "ticks": ""
            },
            "colorscale": [
             [
              0,
              "#0d0887"
             ],
             [
              0.1111111111111111,
              "#46039f"
             ],
             [
              0.2222222222222222,
              "#7201a8"
             ],
             [
              0.3333333333333333,
              "#9c179e"
             ],
             [
              0.4444444444444444,
              "#bd3786"
             ],
             [
              0.5555555555555556,
              "#d8576b"
             ],
             [
              0.6666666666666666,
              "#ed7953"
             ],
             [
              0.7777777777777778,
              "#fb9f3a"
             ],
             [
              0.8888888888888888,
              "#fdca26"
             ],
             [
              1,
              "#f0f921"
             ]
            ],
            "type": "histogram2d"
           }
          ],
          "histogram2dcontour": [
           {
            "colorbar": {
             "outlinewidth": 0,
             "ticks": ""
            },
            "colorscale": [
             [
              0,
              "#0d0887"
             ],
             [
              0.1111111111111111,
              "#46039f"
             ],
             [
              0.2222222222222222,
              "#7201a8"
             ],
             [
              0.3333333333333333,
              "#9c179e"
             ],
             [
              0.4444444444444444,
              "#bd3786"
             ],
             [
              0.5555555555555556,
              "#d8576b"
             ],
             [
              0.6666666666666666,
              "#ed7953"
             ],
             [
              0.7777777777777778,
              "#fb9f3a"
             ],
             [
              0.8888888888888888,
              "#fdca26"
             ],
             [
              1,
              "#f0f921"
             ]
            ],
            "type": "histogram2dcontour"
           }
          ],
          "mesh3d": [
           {
            "colorbar": {
             "outlinewidth": 0,
             "ticks": ""
            },
            "type": "mesh3d"
           }
          ],
          "parcoords": [
           {
            "line": {
             "colorbar": {
              "outlinewidth": 0,
              "ticks": ""
             }
            },
            "type": "parcoords"
           }
          ],
          "pie": [
           {
            "automargin": true,
            "type": "pie"
           }
          ],
          "scatter": [
           {
            "fillpattern": {
             "fillmode": "overlay",
             "size": 10,
             "solidity": 0.2
            },
            "type": "scatter"
           }
          ],
          "scatter3d": [
           {
            "line": {
             "colorbar": {
              "outlinewidth": 0,
              "ticks": ""
             }
            },
            "marker": {
             "colorbar": {
              "outlinewidth": 0,
              "ticks": ""
             }
            },
            "type": "scatter3d"
           }
          ],
          "scattercarpet": [
           {
            "marker": {
             "colorbar": {
              "outlinewidth": 0,
              "ticks": ""
             }
            },
            "type": "scattercarpet"
           }
          ],
          "scattergeo": [
           {
            "marker": {
             "colorbar": {
              "outlinewidth": 0,
              "ticks": ""
             }
            },
            "type": "scattergeo"
           }
          ],
          "scattergl": [
           {
            "marker": {
             "colorbar": {
              "outlinewidth": 0,
              "ticks": ""
             }
            },
            "type": "scattergl"
           }
          ],
          "scattermapbox": [
           {
            "marker": {
             "colorbar": {
              "outlinewidth": 0,
              "ticks": ""
             }
            },
            "type": "scattermapbox"
           }
          ],
          "scatterpolar": [
           {
            "marker": {
             "colorbar": {
              "outlinewidth": 0,
              "ticks": ""
             }
            },
            "type": "scatterpolar"
           }
          ],
          "scatterpolargl": [
           {
            "marker": {
             "colorbar": {
              "outlinewidth": 0,
              "ticks": ""
             }
            },
            "type": "scatterpolargl"
           }
          ],
          "scatterternary": [
           {
            "marker": {
             "colorbar": {
              "outlinewidth": 0,
              "ticks": ""
             }
            },
            "type": "scatterternary"
           }
          ],
          "surface": [
           {
            "colorbar": {
             "outlinewidth": 0,
             "ticks": ""
            },
            "colorscale": [
             [
              0,
              "#0d0887"
             ],
             [
              0.1111111111111111,
              "#46039f"
             ],
             [
              0.2222222222222222,
              "#7201a8"
             ],
             [
              0.3333333333333333,
              "#9c179e"
             ],
             [
              0.4444444444444444,
              "#bd3786"
             ],
             [
              0.5555555555555556,
              "#d8576b"
             ],
             [
              0.6666666666666666,
              "#ed7953"
             ],
             [
              0.7777777777777778,
              "#fb9f3a"
             ],
             [
              0.8888888888888888,
              "#fdca26"
             ],
             [
              1,
              "#f0f921"
             ]
            ],
            "type": "surface"
           }
          ],
          "table": [
           {
            "cells": {
             "fill": {
              "color": "#EBF0F8"
             },
             "line": {
              "color": "white"
             }
            },
            "header": {
             "fill": {
              "color": "#C8D4E3"
             },
             "line": {
              "color": "white"
             }
            },
            "type": "table"
           }
          ]
         },
         "layout": {
          "annotationdefaults": {
           "arrowcolor": "#2a3f5f",
           "arrowhead": 0,
           "arrowwidth": 1
          },
          "autotypenumbers": "strict",
          "coloraxis": {
           "colorbar": {
            "outlinewidth": 0,
            "ticks": ""
           }
          },
          "colorscale": {
           "diverging": [
            [
             0,
             "#8e0152"
            ],
            [
             0.1,
             "#c51b7d"
            ],
            [
             0.2,
             "#de77ae"
            ],
            [
             0.3,
             "#f1b6da"
            ],
            [
             0.4,
             "#fde0ef"
            ],
            [
             0.5,
             "#f7f7f7"
            ],
            [
             0.6,
             "#e6f5d0"
            ],
            [
             0.7,
             "#b8e186"
            ],
            [
             0.8,
             "#7fbc41"
            ],
            [
             0.9,
             "#4d9221"
            ],
            [
             1,
             "#276419"
            ]
           ],
           "sequential": [
            [
             0,
             "#0d0887"
            ],
            [
             0.1111111111111111,
             "#46039f"
            ],
            [
             0.2222222222222222,
             "#7201a8"
            ],
            [
             0.3333333333333333,
             "#9c179e"
            ],
            [
             0.4444444444444444,
             "#bd3786"
            ],
            [
             0.5555555555555556,
             "#d8576b"
            ],
            [
             0.6666666666666666,
             "#ed7953"
            ],
            [
             0.7777777777777778,
             "#fb9f3a"
            ],
            [
             0.8888888888888888,
             "#fdca26"
            ],
            [
             1,
             "#f0f921"
            ]
           ],
           "sequentialminus": [
            [
             0,
             "#0d0887"
            ],
            [
             0.1111111111111111,
             "#46039f"
            ],
            [
             0.2222222222222222,
             "#7201a8"
            ],
            [
             0.3333333333333333,
             "#9c179e"
            ],
            [
             0.4444444444444444,
             "#bd3786"
            ],
            [
             0.5555555555555556,
             "#d8576b"
            ],
            [
             0.6666666666666666,
             "#ed7953"
            ],
            [
             0.7777777777777778,
             "#fb9f3a"
            ],
            [
             0.8888888888888888,
             "#fdca26"
            ],
            [
             1,
             "#f0f921"
            ]
           ]
          },
          "colorway": [
           "#636efa",
           "#EF553B",
           "#00cc96",
           "#ab63fa",
           "#FFA15A",
           "#19d3f3",
           "#FF6692",
           "#B6E880",
           "#FF97FF",
           "#FECB52"
          ],
          "font": {
           "color": "#2a3f5f"
          },
          "geo": {
           "bgcolor": "white",
           "lakecolor": "white",
           "landcolor": "#E5ECF6",
           "showlakes": true,
           "showland": true,
           "subunitcolor": "white"
          },
          "hoverlabel": {
           "align": "left"
          },
          "hovermode": "closest",
          "mapbox": {
           "style": "light"
          },
          "paper_bgcolor": "white",
          "plot_bgcolor": "#E5ECF6",
          "polar": {
           "angularaxis": {
            "gridcolor": "white",
            "linecolor": "white",
            "ticks": ""
           },
           "bgcolor": "#E5ECF6",
           "radialaxis": {
            "gridcolor": "white",
            "linecolor": "white",
            "ticks": ""
           }
          },
          "scene": {
           "xaxis": {
            "backgroundcolor": "#E5ECF6",
            "gridcolor": "white",
            "gridwidth": 2,
            "linecolor": "white",
            "showbackground": true,
            "ticks": "",
            "zerolinecolor": "white"
           },
           "yaxis": {
            "backgroundcolor": "#E5ECF6",
            "gridcolor": "white",
            "gridwidth": 2,
            "linecolor": "white",
            "showbackground": true,
            "ticks": "",
            "zerolinecolor": "white"
           },
           "zaxis": {
            "backgroundcolor": "#E5ECF6",
            "gridcolor": "white",
            "gridwidth": 2,
            "linecolor": "white",
            "showbackground": true,
            "ticks": "",
            "zerolinecolor": "white"
           }
          },
          "shapedefaults": {
           "line": {
            "color": "#2a3f5f"
           }
          },
          "ternary": {
           "aaxis": {
            "gridcolor": "white",
            "linecolor": "white",
            "ticks": ""
           },
           "baxis": {
            "gridcolor": "white",
            "linecolor": "white",
            "ticks": ""
           },
           "bgcolor": "#E5ECF6",
           "caxis": {
            "gridcolor": "white",
            "linecolor": "white",
            "ticks": ""
           }
          },
          "title": {
           "x": 0.05
          },
          "xaxis": {
           "automargin": true,
           "gridcolor": "white",
           "linecolor": "white",
           "ticks": "",
           "title": {
            "standoff": 15
           },
           "zerolinecolor": "white",
           "zerolinewidth": 2
          },
          "yaxis": {
           "automargin": true,
           "gridcolor": "white",
           "linecolor": "white",
           "ticks": "",
           "title": {
            "standoff": 15
           },
           "zerolinecolor": "white",
           "zerolinewidth": 2
          }
         }
        },
        "title": {
         "text": "Completions vs Commencements in Dublin"
        },
        "xaxis": {
         "anchor": "y",
         "autorange": true,
         "domain": [
          0,
          1
         ],
         "range": [
          -0.5,
          50.5
         ],
         "title": {
          "text": "Quarter"
         },
         "type": "category"
        },
        "yaxis": {
         "anchor": "x",
         "autorange": true,
         "domain": [
          0,
          1
         ],
         "range": [
          0,
          10440
         ],
         "title": {
          "text": "Count"
         },
         "type": "linear"
        }
       }
      },
      "image/png": "[encoded data removed]",
      "text/html": [
       "<div>                            <div id=\"ac1ad9c1-7f2d-4621-8e65-01e6566a883d\" class=\"plotly-graph-div\" style=\"height:525px; width:100%;\"></div>            <script type=\"text/javascript\">                require([\"plotly\"], function(Plotly) {                    window.PLOTLYENV=window.PLOTLYENV || {};                                    if (document.getElementById(\"ac1ad9c1-7f2d-4621-8e65-01e6566a883d\")) {                    Plotly.newPlot(                        \"ac1ad9c1-7f2d-4621-8e65-01e6566a883d\",                        [{\"alignmentgroup\":\"True\",\"hovertemplate\":\"variable=Completions NEW\\u003cbr\\u003eQuarter=%{x}\\u003cbr\\u003evalue=%{y}\\u003cextra\\u003e\\u003c\\u002fextra\\u003e\",\"legendgroup\":\"Completions NEW\",\"marker\":{\"color\":\"#636efa\",\"pattern\":{\"shape\":\"\"}},\"name\":\"Completions NEW\",\"offsetgroup\":\"Completions NEW\",\"orientation\":\"v\",\"showlegend\":true,\"textposition\":\"auto\",\"x\":[\"Q1 12\",\"Q2 12\",\"Q3 12\",\"Q4 12\",\"Q1 13\",\"Q2 13\",\"Q3 13\",\"Q4 13\",\"Q1 14\",\"Q2 14\",\"Q3 14\",\"Q4 14\",\"Q1 15\",\"Q2 15\",\"Q3 15\",\"Q4 15\",\"Q1 16\",\"Q2 16\",\"Q3 16\",\"Q4 16\",\"Q1 17\",\"Q2 17\",\"Q3 17\",\"Q4 17\",\"Q1 18\",\"Q2 18\",\"Q3 18\",\"Q4 18\",\"Q1 19\",\"Q2 19\",\"Q3 19\",\"Q4 19\",\"Q1 20\",\"Q2 20\",\"Q3 20\",\"Q4 20\",\"Q1 21\",\"Q2 21\",\"Q3 21\",\"Q4 21\",\"Q1 22\",\"Q2 22\",\"Q3 22\",\"Q4 22\",\"Q1 23\",\"Q2 23\",\"Q3 23\",\"Q4 23\",\"Q1 24\",\"Q2 24\",\"Q3 24\"],\"xaxis\":\"x\",\"y\":[128,107,150,185,131,197,188,283,350,471,448,432,517,468,584,543,918,901,868,879,1206,1344,1564,1406,1385,1919,1917,1625,1696,1571,2010,1650,1896,888,1136,1995,1170,1638,1278,2004,2495,2905,2702,2333,2922,2526,3686,3362,2184,2250,3862],\"yaxis\":\"y\",\"type\":\"bar\"},{\"alignmentgroup\":\"True\",\"hovertemplate\":\"variable=Commencements\\u003cbr\\u003eQuarter=%{x}\\u003cbr\\u003evalue=%{y}\\u003cextra\\u003e\\u003c\\u002fextra\\u003e\",\"legendgroup\":\"Commencements\",\"marker\":{\"color\":\"#EF553B\",\"pattern\":{\"shape\":\"\"}},\"name\":\"Commencements\",\"offsetgroup\":\"Commencements\",\"orientation\":\"v\",\"showlegend\":true,\"textposition\":\"auto\",\"x\":[\"Q1 12\",\"Q2 12\",\"Q3 12\",\"Q4 12\",\"Q1 13\",\"Q2 13\",\"Q3 13\",\"Q4 13\",\"Q1 14\",\"Q2 14\",\"Q3 14\",\"Q4 14\",\"Q1 15\",\"Q2 15\",\"Q3 15\",\"Q4 15\",\"Q1 16\",\"Q2 16\",\"Q3 16\",\"Q4 16\",\"Q1 17\",\"Q2 17\",\"Q3 17\",\"Q4 17\",\"Q1 18\",\"Q2 18\",\"Q3 18\",\"Q4 18\",\"Q1 19\",\"Q2 19\",\"Q3 19\",\"Q4 19\",\"Q1 20\",\"Q2 20\",\"Q3 20\",\"Q4 20\",\"Q1 21\",\"Q2 21\",\"Q3 21\",\"Q4 21\",\"Q1 22\",\"Q2 22\",\"Q3 22\",\"Q4 22\",\"Q1 23\",\"Q2 23\",\"Q3 23\",\"Q4 23\",\"Q1 24\",\"Q2 24\",\"Q3 24\"],\"xaxis\":\"x\",\"y\":[43,391,89,243,254,182,487,528,1575,144,311,420,469,898,1218,1301,1552,1093,897,1862,1465,2196,1686,1640,1433,1950,2084,2240,2237,1589,2648,2524,3218,1154,1935,1886,395,5013,3596,1932,1855,2704,2653,2435,2747,3577,3267,4002,4347,7562,6056],\"yaxis\":\"y\",\"type\":\"bar\"}],                        {\"template\":{\"data\":{\"histogram2dcontour\":[{\"type\":\"histogram2dcontour\",\"colorbar\":{\"outlinewidth\":0,\"ticks\":\"\"},\"colorscale\":[[0.0,\"#0d0887\"],[0.1111111111111111,\"#46039f\"],[0.2222222222222222,\"#7201a8\"],[0.3333333333333333,\"#9c179e\"],[0.4444444444444444,\"#bd3786\"],[0.5555555555555556,\"#d8576b\"],[0.6666666666666666,\"#ed7953\"],[0.7777777777777778,\"#fb9f3a\"],[0.8888888888888888,\"#fdca26\"],[1.0,\"#f0f921\"]]}],\"choropleth\":[{\"type\":\"choropleth\",\"colorbar\":{\"outlinewidth\":0,\"ticks\":\"\"}}],\"histogram2d\":[{\"type\":\"histogram2d\",\"colorbar\":{\"outlinewidth\":0,\"ticks\":\"\"},\"colorscale\":[[0.0,\"#0d0887\"],[0.1111111111111111,\"#46039f\"],[0.2222222222222222,\"#7201a8\"],[0.3333333333333333,\"#9c179e\"],[0.4444444444444444,\"#bd3786\"],[0.5555555555555556,\"#d8576b\"],[0.6666666666666666,\"#ed7953\"],[0.7777777777777778,\"#fb9f3a\"],[0.8888888888888888,\"#fdca26\"],[1.0,\"#f0f921\"]]}],\"heatmap\":[{\"type\":\"heatmap\",\"colorbar\":{\"outlinewidth\":0,\"ticks\":\"\"},\"colorscale\":[[0.0,\"#0d0887\"],[0.1111111111111111,\"#46039f\"],[0.2222222222222222,\"#7201a8\"],[0.3333333333333333,\"#9c179e\"],[0.4444444444444444,\"#bd3786\"],[0.5555555555555556,\"#d8576b\"],[0.6666666666666666,\"#ed7953\"],[0.7777777777777778,\"#fb9f3a\"],[0.8888888888888888,\"#fdca26\"],[1.0,\"#f0f921\"]]}],\"heatmapgl\":[{\"type\":\"heatmapgl\",\"colorbar\":{\"outlinewidth\":0,\"ticks\":\"\"},\"colorscale\":[[0.0,\"#0d0887\"],[0.1111111111111111,\"#46039f\"],[0.2222222222222222,\"#7201a8\"],[0.3333333333333333,\"#9c179e\"],[0.4444444444444444,\"#bd3786\"],[0.5555555555555556,\"#d8576b\"],[0.6666666666666666,\"#ed7953\"],[0.7777777777777778,\"#fb9f3a\"],[0.8888888888888888,\"#fdca26\"],[1.0,\"#f0f921\"]]}],\"contourcarpet\":[{\"type\":\"contourcarpet\",\"colorbar\":{\"outlinewidth\":0,\"ticks\":\"\"}}],\"contour\":[{\"type\":\"contour\",\"colorbar\":{\"outlinewidth\":0,\"ticks\":\"\"},\"colorscale\":[[0.0,\"#0d0887\"],[0.1111111111111111,\"#46039f\"],[0.2222222222222222,\"#7201a8\"],[0.3333333333333333,\"#9c179e\"],[0.4444444444444444,\"#bd3786\"],[0.5555555555555556,\"#d8576b\"],[0.6666666666666666,\"#ed7953\"],[0.7777777777777778,\"#fb9f3a\"],[0.8888888888888888,\"#fdca26\"],[1.0,\"#f0f921\"]]}],\"surface\":[{\"type\":\"surface\",\"colorbar\":{\"outlinewidth\":0,\"ticks\":\"\"},\"colorscale\":[[0.0,\"#0d0887\"],[0.1111111111111111,\"#46039f\"],[0.2222222222222222,\"#7201a8\"],[0.3333333333333333,\"#9c179e\"],[0.4444444444444444,\"#bd3786\"],[0.5555555555555556,\"#d8576b\"],[0.6666666666666666,\"#ed7953\"],[0.7777777777777778,\"#fb9f3a\"],[0.8888888888888888,\"#fdca26\"],[1.0,\"#f0f921\"]]}],\"mesh3d\":[{\"type\":\"mesh3d\",\"colorbar\":{\"outlinewidth\":0,\"ticks\":\"\"}}],\"scatter\":[{\"fillpattern\":{\"fillmode\":\"overlay\",\"size\":10,\"solidity\":0.2},\"type\":\"scatter\"}],\"parcoords\":[{\"type\":\"parcoords\",\"line\":{\"colorbar\":{\"outlinewidth\":0,\"ticks\":\"\"}}}],\"scatterpolargl\":[{\"type\":\"scatterpolargl\",\"marker\":{\"colorbar\":{\"outlinewidth\":0,\"ticks\":\"\"}}}],\"bar\":[{\"error_x\":{\"color\":\"#2a3f5f\"},\"error_y\":{\"color\":\"#2a3f5f\"},\"marker\":{\"line\":{\"color\":\"#E5ECF6\",\"width\":0.5},\"pattern\":{\"fillmode\":\"overlay\",\"size\":10,\"solidity\":0.2}},\"type\":\"bar\"}],\"scattergeo\":[{\"type\":\"scattergeo\",\"marker\":{\"colorbar\":{\"outlinewidth\":0,\"ticks\":\"\"}}}],\"scatterpolar\":[{\"type\":\"scatterpolar\",\"marker\":{\"colorbar\":{\"outlinewidth\":0,\"ticks\":\"\"}}}],\"histogram\":[{\"marker\":{\"pattern\":{\"fillmode\":\"overlay\",\"size\":10,\"solidity\":0.2}},\"type\":\"histogram\"}],\"scattergl\":[{\"type\":\"scattergl\",\"marker\":{\"colorbar\":{\"outlinewidth\":0,\"ticks\":\"\"}}}],\"scatter3d\":[{\"type\":\"scatter3d\",\"line\":{\"colorbar\":{\"outlinewidth\":0,\"ticks\":\"\"}},\"marker\":{\"colorbar\":{\"outlinewidth\":0,\"ticks\":\"\"}}}],\"scattermapbox\":[{\"type\":\"scattermapbox\",\"marker\":{\"colorbar\":{\"outlinewidth\":0,\"ticks\":\"\"}}}],\"scatterternary\":[{\"type\":\"scatterternary\",\"marker\":{\"colorbar\":{\"outlinewidth\":0,\"ticks\":\"\"}}}],\"scattercarpet\":[{\"type\":\"scattercarpet\",\"marker\":{\"colorbar\":{\"outlinewidth\":0,\"ticks\":\"\"}}}],\"carpet\":[{\"aaxis\":{\"endlinecolor\":\"#2a3f5f\",\"gridcolor\":\"white\",\"linecolor\":\"white\",\"minorgridcolor\":\"white\",\"startlinecolor\":\"#2a3f5f\"},\"baxis\":{\"endlinecolor\":\"#2a3f5f\",\"gridcolor\":\"white\",\"linecolor\":\"white\",\"minorgridcolor\":\"white\",\"startlinecolor\":\"#2a3f5f\"},\"type\":\"carpet\"}],\"table\":[{\"cells\":{\"fill\":{\"color\":\"#EBF0F8\"},\"line\":{\"color\":\"white\"}},\"header\":{\"fill\":{\"color\":\"#C8D4E3\"},\"line\":{\"color\":\"white\"}},\"type\":\"table\"}],\"barpolar\":[{\"marker\":{\"line\":{\"color\":\"#E5ECF6\",\"width\":0.5},\"pattern\":{\"fillmode\":\"overlay\",\"size\":10,\"solidity\":0.2}},\"type\":\"barpolar\"}],\"pie\":[{\"automargin\":true,\"type\":\"pie\"}]},\"layout\":{\"autotypenumbers\":\"strict\",\"colorway\":[\"#636efa\",\"#EF553B\",\"#00cc96\",\"#ab63fa\",\"#FFA15A\",\"#19d3f3\",\"#FF6692\",\"#B6E880\",\"#FF97FF\",\"#FECB52\"],\"font\":{\"color\":\"#2a3f5f\"},\"hovermode\":\"closest\",\"hoverlabel\":{\"align\":\"left\"},\"paper_bgcolor\":\"white\",\"plot_bgcolor\":\"#E5ECF6\",\"polar\":{\"bgcolor\":\"#E5ECF6\",\"angularaxis\":{\"gridcolor\":\"white\",\"linecolor\":\"white\",\"ticks\":\"\"},\"radialaxis\":{\"gridcolor\":\"white\",\"linecolor\":\"white\",\"ticks\":\"\"}},\"ternary\":{\"bgcolor\":\"#E5ECF6\",\"aaxis\":{\"gridcolor\":\"white\",\"linecolor\":\"white\",\"ticks\":\"\"},\"baxis\":{\"gridcolor\":\"white\",\"linecolor\":\"white\",\"ticks\":\"\"},\"caxis\":{\"gridcolor\":\"white\",\"linecolor\":\"white\",\"ticks\":\"\"}},\"coloraxis\":{\"colorbar\":{\"outlinewidth\":0,\"ticks\":\"\"}},\"colorscale\":{\"sequential\":[[0.0,\"#0d0887\"],[0.1111111111111111,\"#46039f\"],[0.2222222222222222,\"#7201a8\"],[0.3333333333333333,\"#9c179e\"],[0.4444444444444444,\"#bd3786\"],[0.5555555555555556,\"#d8576b\"],[0.6666666666666666,\"#ed7953\"],[0.7777777777777778,\"#fb9f3a\"],[0.8888888888888888,\"#fdca26\"],[1.0,\"#f0f921\"]],\"sequentialminus\":[[0.0,\"#0d0887\"],[0.1111111111111111,\"#46039f\"],[0.2222222222222222,\"#7201a8\"],[0.3333333333333333,\"#9c179e\"],[0.4444444444444444,\"#bd3786\"],[0.5555555555555556,\"#d8576b\"],[0.6666666666666666,\"#ed7953\"],[0.7777777777777778,\"#fb9f3a\"],[0.8888888888888888,\"#fdca26\"],[1.0,\"#f0f921\"]],\"diverging\":[[0,\"#8e0152\"],[0.1,\"#c51b7d\"],[0.2,\"#de77ae\"],[0.3,\"#f1b6da\"],[0.4,\"#fde0ef\"],[0.5,\"#f7f7f7\"],[0.6,\"#e6f5d0\"],[0.7,\"#b8e186\"],[0.8,\"#7fbc41\"],[0.9,\"#4d9221\"],[1,\"#276419\"]]},\"xaxis\":{\"gridcolor\":\"white\",\"linecolor\":\"white\",\"ticks\":\"\",\"title\":{\"standoff\":15},\"zerolinecolor\":\"white\",\"automargin\":true,\"zerolinewidth\":2},\"yaxis\":{\"gridcolor\":\"white\",\"linecolor\":\"white\",\"ticks\":\"\",\"title\":{\"standoff\":15},\"zerolinecolor\":\"white\",\"automargin\":true,\"zerolinewidth\":2},\"scene\":{\"xaxis\":{\"backgroundcolor\":\"#E5ECF6\",\"gridcolor\":\"white\",\"linecolor\":\"white\",\"showbackground\":true,\"ticks\":\"\",\"zerolinecolor\":\"white\",\"gridwidth\":2},\"yaxis\":{\"backgroundcolor\":\"#E5ECF6\",\"gridcolor\":\"white\",\"linecolor\":\"white\",\"showbackground\":true,\"ticks\":\"\",\"zerolinecolor\":\"white\",\"gridwidth\":2},\"zaxis\":{\"backgroundcolor\":\"#E5ECF6\",\"gridcolor\":\"white\",\"linecolor\":\"white\",\"showbackground\":true,\"ticks\":\"\",\"zerolinecolor\":\"white\",\"gridwidth\":2}},\"shapedefaults\":{\"line\":{\"color\":\"#2a3f5f\"}},\"annotationdefaults\":{\"arrowcolor\":\"#2a3f5f\",\"arrowhead\":0,\"arrowwidth\":1},\"geo\":{\"bgcolor\":\"white\",\"landcolor\":\"#E5ECF6\",\"subunitcolor\":\"white\",\"showland\":true,\"showlakes\":true,\"lakecolor\":\"white\"},\"title\":{\"x\":0.05},\"mapbox\":{\"style\":\"light\"}}},\"xaxis\":{\"anchor\":\"y\",\"domain\":[0.0,1.0],\"title\":{\"text\":\"Quarter\"}},\"yaxis\":{\"anchor\":\"x\",\"domain\":[0.0,1.0],\"title\":{\"text\":\"Count\"}},\"legend\":{\"title\":{\"text\":\"variable\"},\"tracegroupgap\":0},\"title\":{\"text\":\"Completions vs Commencements in Dublin\"},\"barmode\":\"relative\"},                        {\"responsive\": true}                    ).then(function(){\n",
       "                            \n",
       "var gd = document.getElementById('ac1ad9c1-7f2d-4621-8e65-01e6566a883d');\n",
       "var x = new MutationObserver(function (mutations, observer) {{\n",
       "        var display = window.getComputedStyle(gd).display;\n",
       "        if (!display || display === 'none') {{\n",
       "            console.log([gd, 'removed!']);\n",
       "            Plotly.purge(gd);\n",
       "            observer.disconnect();\n",
       "        }}\n",
       "}});\n",
       "\n",
       "// Listen for the removal of the full notebook cells\n",
       "var notebookContainer = gd.closest('#notebook-container');\n",
       "if (notebookContainer) {{\n",
       "    x.observe(notebookContainer, {childList: true});\n",
       "}}\n",
       "\n",
       "// Listen for the clearing of the current output cell\n",
       "var outputEl = gd.closest('.output');\n",
       "if (outputEl) {{\n",
       "    x.observe(outputEl, {childList: true});\n",
       "}}\n",
       "\n",
       "                        })                };                });            </script>        </div>"
      ]
     },
     "metadata": {},
     "output_type": "display_data"
    }
   ],
   "source": [
    "x = dublin_housing['Quarter']\n",
    "y = dublin_housing.columns\n",
    "chart_type = \"bar\" # 'line', 'bar', 'scatter'\n",
    "title=\"Completions vs Commencements in Dublin\"\n",
    "y_axis_label=\"Count\"\n",
    "fig = dt.visualize_data(dublin_housing, x, y[1:3], chart_type, title, y_axis_label)\n",
    "fig.show()"
   ]
  },
  {
   "cell_type": "markdown",
   "id": "00b6dfcc-177a-482e-97cc-97bd652f6b3c",
   "metadata": {},
   "source": [
    "### Visualisation 3"
   ]
  },
  {
   "cell_type": "code",
   "execution_count": 22,
   "id": "6531c061-c8b3-4e4c-9779-1a3d7ae540ed",
   "metadata": {},
   "outputs": [
    {
     "data": {
      "application/vnd.plotly.v1+json": {
       "config": {
        "plotlyServerURL": "https://plot.ly"
       },
       "data": [
        {
         "hovertemplate": "variable=Completions NEW<br>Quarter=%{x}<br>value=%{y}<extra></extra>",
         "legendgroup": "Completions NEW",
         "marker": {
          "color": "#636efa",
          "symbol": "circle"
         },
         "mode": "markers",
         "name": "Completions NEW",
         "orientation": "v",
         "showlegend": true,
         "type": "scatter",
         "x": [
          "Q1 12",
          "Q2 12",
          "Q3 12",
          "Q4 12",
          "Q1 13",
          "Q2 13",
          "Q3 13",
          "Q4 13",
          "Q1 14",
          "Q2 14",
          "Q3 14",
          "Q4 14",
          "Q1 15",
          "Q2 15",
          "Q3 15",
          "Q4 15",
          "Q1 16",
          "Q2 16",
          "Q3 16",
          "Q4 16",
          "Q1 17",
          "Q2 17",
          "Q3 17",
          "Q4 17",
          "Q1 18",
          "Q2 18",
          "Q3 18",
          "Q4 18",
          "Q1 19",
          "Q2 19",
          "Q3 19",
          "Q4 19",
          "Q1 20",
          "Q2 20",
          "Q3 20",
          "Q4 20",
          "Q1 21",
          "Q2 21",
          "Q3 21",
          "Q4 21",
          "Q1 22",
          "Q2 22",
          "Q3 22",
          "Q4 22",
          "Q1 23",
          "Q2 23",
          "Q3 23",
          "Q4 23",
          "Q1 24",
          "Q2 24",
          "Q3 24"
         ],
         "xaxis": "x",
         "y": [
          128,
          107,
          150,
          185,
          131,
          197,
          188,
          283,
          350,
          471,
          448,
          432,
          517,
          468,
          584,
          543,
          918,
          901,
          868,
          879,
          1206,
          1344,
          1564,
          1406,
          1385,
          1919,
          1917,
          1625,
          1696,
          1571,
          2010,
          1650,
          1896,
          888,
          1136,
          1995,
          1170,
          1638,
          1278,
          2004,
          2495,
          2905,
          2702,
          2333,
          2922,
          2526,
          3686,
          3362,
          2184,
          2250,
          3862
         ],
         "yaxis": "y"
        },
        {
         "hovertemplate": "variable=Commencements<br>Quarter=%{x}<br>value=%{y}<extra></extra>",
         "legendgroup": "Commencements",
         "marker": {
          "color": "#EF553B",
          "symbol": "circle"
         },
         "mode": "markers",
         "name": "Commencements",
         "orientation": "v",
         "showlegend": true,
         "type": "scatter",
         "x": [
          "Q1 12",
          "Q2 12",
          "Q3 12",
          "Q4 12",
          "Q1 13",
          "Q2 13",
          "Q3 13",
          "Q4 13",
          "Q1 14",
          "Q2 14",
          "Q3 14",
          "Q4 14",
          "Q1 15",
          "Q2 15",
          "Q3 15",
          "Q4 15",
          "Q1 16",
          "Q2 16",
          "Q3 16",
          "Q4 16",
          "Q1 17",
          "Q2 17",
          "Q3 17",
          "Q4 17",
          "Q1 18",
          "Q2 18",
          "Q3 18",
          "Q4 18",
          "Q1 19",
          "Q2 19",
          "Q3 19",
          "Q4 19",
          "Q1 20",
          "Q2 20",
          "Q3 20",
          "Q4 20",
          "Q1 21",
          "Q2 21",
          "Q3 21",
          "Q4 21",
          "Q1 22",
          "Q2 22",
          "Q3 22",
          "Q4 22",
          "Q1 23",
          "Q2 23",
          "Q3 23",
          "Q4 23",
          "Q1 24",
          "Q2 24",
          "Q3 24"
         ],
         "xaxis": "x",
         "y": [
          43,
          391,
          89,
          243,
          254,
          182,
          487,
          528,
          1575,
          144,
          311,
          420,
          469,
          898,
          1218,
          1301,
          1552,
          1093,
          897,
          1862,
          1465,
          2196,
          1686,
          1640,
          1433,
          1950,
          2084,
          2240,
          2237,
          1589,
          2648,
          2524,
          3218,
          1154,
          1935,
          1886,
          395,
          5013,
          3596,
          1932,
          1855,
          2704,
          2653,
          2435,
          2747,
          3577,
          3267,
          4002,
          4347,
          7562,
          6056
         ],
         "yaxis": "y"
        }
       ],
       "layout": {
        "autosize": true,
        "legend": {
         "title": {
          "text": "variable"
         },
         "tracegroupgap": 0
        },
        "template": {
         "data": {
          "bar": [
           {
            "error_x": {
             "color": "#2a3f5f"
            },
            "error_y": {
             "color": "#2a3f5f"
            },
            "marker": {
             "line": {
              "color": "#E5ECF6",
              "width": 0.5
             },
             "pattern": {
              "fillmode": "overlay",
              "size": 10,
              "solidity": 0.2
             }
            },
            "type": "bar"
           }
          ],
          "barpolar": [
           {
            "marker": {
             "line": {
              "color": "#E5ECF6",
              "width": 0.5
             },
             "pattern": {
              "fillmode": "overlay",
              "size": 10,
              "solidity": 0.2
             }
            },
            "type": "barpolar"
           }
          ],
          "carpet": [
           {
            "aaxis": {
             "endlinecolor": "#2a3f5f",
             "gridcolor": "white",
             "linecolor": "white",
             "minorgridcolor": "white",
             "startlinecolor": "#2a3f5f"
            },
            "baxis": {
             "endlinecolor": "#2a3f5f",
             "gridcolor": "white",
             "linecolor": "white",
             "minorgridcolor": "white",
             "startlinecolor": "#2a3f5f"
            },
            "type": "carpet"
           }
          ],
          "choropleth": [
           {
            "colorbar": {
             "outlinewidth": 0,
             "ticks": ""
            },
            "type": "choropleth"
           }
          ],
          "contour": [
           {
            "colorbar": {
             "outlinewidth": 0,
             "ticks": ""
            },
            "colorscale": [
             [
              0,
              "#0d0887"
             ],
             [
              0.1111111111111111,
              "#46039f"
             ],
             [
              0.2222222222222222,
              "#7201a8"
             ],
             [
              0.3333333333333333,
              "#9c179e"
             ],
             [
              0.4444444444444444,
              "#bd3786"
             ],
             [
              0.5555555555555556,
              "#d8576b"
             ],
             [
              0.6666666666666666,
              "#ed7953"
             ],
             [
              0.7777777777777778,
              "#fb9f3a"
             ],
             [
              0.8888888888888888,
              "#fdca26"
             ],
             [
              1,
              "#f0f921"
             ]
            ],
            "type": "contour"
           }
          ],
          "contourcarpet": [
           {
            "colorbar": {
             "outlinewidth": 0,
             "ticks": ""
            },
            "type": "contourcarpet"
           }
          ],
          "heatmap": [
           {
            "colorbar": {
             "outlinewidth": 0,
             "ticks": ""
            },
            "colorscale": [
             [
              0,
              "#0d0887"
             ],
             [
              0.1111111111111111,
              "#46039f"
             ],
             [
              0.2222222222222222,
              "#7201a8"
             ],
             [
              0.3333333333333333,
              "#9c179e"
             ],
             [
              0.4444444444444444,
              "#bd3786"
             ],
             [
              0.5555555555555556,
              "#d8576b"
             ],
             [
              0.6666666666666666,
              "#ed7953"
             ],
             [
              0.7777777777777778,
              "#fb9f3a"
             ],
             [
              0.8888888888888888,
              "#fdca26"
             ],
             [
              1,
              "#f0f921"
             ]
            ],
            "type": "heatmap"
           }
          ],
          "heatmapgl": [
           {
            "colorbar": {
             "outlinewidth": 0,
             "ticks": ""
            },
            "colorscale": [
             [
              0,
              "#0d0887"
             ],
             [
              0.1111111111111111,
              "#46039f"
             ],
             [
              0.2222222222222222,
              "#7201a8"
             ],
             [
              0.3333333333333333,
              "#9c179e"
             ],
             [
              0.4444444444444444,
              "#bd3786"
             ],
             [
              0.5555555555555556,
              "#d8576b"
             ],
             [
              0.6666666666666666,
              "#ed7953"
             ],
             [
              0.7777777777777778,
              "#fb9f3a"
             ],
             [
              0.8888888888888888,
              "#fdca26"
             ],
             [
              1,
              "#f0f921"
             ]
            ],
            "type": "heatmapgl"
           }
          ],
          "histogram": [
           {
            "marker": {
             "pattern": {
              "fillmode": "overlay",
              "size": 10,
              "solidity": 0.2
             }
            },
            "type": "histogram"
           }
          ],
          "histogram2d": [
           {
            "colorbar": {
             "outlinewidth": 0,
             "ticks": ""
            },
            "colorscale": [
             [
              0,
              "#0d0887"
             ],
             [
              0.1111111111111111,
              "#46039f"
             ],
             [
              0.2222222222222222,
              "#7201a8"
             ],
             [
              0.3333333333333333,
              "#9c179e"
             ],
             [
              0.4444444444444444,
              "#bd3786"
             ],
             [
              0.5555555555555556,
              "#d8576b"
             ],
             [
              0.6666666666666666,
              "#ed7953"
             ],
             [
              0.7777777777777778,
              "#fb9f3a"
             ],
             [
              0.8888888888888888,
              "#fdca26"
             ],
             [
              1,
              "#f0f921"
             ]
            ],
            "type": "histogram2d"
           }
          ],
          "histogram2dcontour": [
           {
            "colorbar": {
             "outlinewidth": 0,
             "ticks": ""
            },
            "colorscale": [
             [
              0,
              "#0d0887"
             ],
             [
              0.1111111111111111,
              "#46039f"
             ],
             [
              0.2222222222222222,
              "#7201a8"
             ],
             [
              0.3333333333333333,
              "#9c179e"
             ],
             [
              0.4444444444444444,
              "#bd3786"
             ],
             [
              0.5555555555555556,
              "#d8576b"
             ],
             [
              0.6666666666666666,
              "#ed7953"
             ],
             [
              0.7777777777777778,
              "#fb9f3a"
             ],
             [
              0.8888888888888888,
              "#fdca26"
             ],
             [
              1,
              "#f0f921"
             ]
            ],
            "type": "histogram2dcontour"
           }
          ],
          "mesh3d": [
           {
            "colorbar": {
             "outlinewidth": 0,
             "ticks": ""
            },
            "type": "mesh3d"
           }
          ],
          "parcoords": [
           {
            "line": {
             "colorbar": {
              "outlinewidth": 0,
              "ticks": ""
             }
            },
            "type": "parcoords"
           }
          ],
          "pie": [
           {
            "automargin": true,
            "type": "pie"
           }
          ],
          "scatter": [
           {
            "fillpattern": {
             "fillmode": "overlay",
             "size": 10,
             "solidity": 0.2
            },
            "type": "scatter"
           }
          ],
          "scatter3d": [
           {
            "line": {
             "colorbar": {
              "outlinewidth": 0,
              "ticks": ""
             }
            },
            "marker": {
             "colorbar": {
              "outlinewidth": 0,
              "ticks": ""
             }
            },
            "type": "scatter3d"
           }
          ],
          "scattercarpet": [
           {
            "marker": {
             "colorbar": {
              "outlinewidth": 0,
              "ticks": ""
             }
            },
            "type": "scattercarpet"
           }
          ],
          "scattergeo": [
           {
            "marker": {
             "colorbar": {
              "outlinewidth": 0,
              "ticks": ""
             }
            },
            "type": "scattergeo"
           }
          ],
          "scattergl": [
           {
            "marker": {
             "colorbar": {
              "outlinewidth": 0,
              "ticks": ""
             }
            },
            "type": "scattergl"
           }
          ],
          "scattermapbox": [
           {
            "marker": {
             "colorbar": {
              "outlinewidth": 0,
              "ticks": ""
             }
            },
            "type": "scattermapbox"
           }
          ],
          "scatterpolar": [
           {
            "marker": {
             "colorbar": {
              "outlinewidth": 0,
              "ticks": ""
             }
            },
            "type": "scatterpolar"
           }
          ],
          "scatterpolargl": [
           {
            "marker": {
             "colorbar": {
              "outlinewidth": 0,
              "ticks": ""
             }
            },
            "type": "scatterpolargl"
           }
          ],
          "scatterternary": [
           {
            "marker": {
             "colorbar": {
              "outlinewidth": 0,
              "ticks": ""
             }
            },
            "type": "scatterternary"
           }
          ],
          "surface": [
           {
            "colorbar": {
             "outlinewidth": 0,
             "ticks": ""
            },
            "colorscale": [
             [
              0,
              "#0d0887"
             ],
             [
              0.1111111111111111,
              "#46039f"
             ],
             [
              0.2222222222222222,
              "#7201a8"
             ],
             [
              0.3333333333333333,
              "#9c179e"
             ],
             [
              0.4444444444444444,
              "#bd3786"
             ],
             [
              0.5555555555555556,
              "#d8576b"
             ],
             [
              0.6666666666666666,
              "#ed7953"
             ],
             [
              0.7777777777777778,
              "#fb9f3a"
             ],
             [
              0.8888888888888888,
              "#fdca26"
             ],
             [
              1,
              "#f0f921"
             ]
            ],
            "type": "surface"
           }
          ],
          "table": [
           {
            "cells": {
             "fill": {
              "color": "#EBF0F8"
             },
             "line": {
              "color": "white"
             }
            },
            "header": {
             "fill": {
              "color": "#C8D4E3"
             },
             "line": {
              "color": "white"
             }
            },
            "type": "table"
           }
          ]
         },
         "layout": {
          "annotationdefaults": {
           "arrowcolor": "#2a3f5f",
           "arrowhead": 0,
           "arrowwidth": 1
          },
          "autotypenumbers": "strict",
          "coloraxis": {
           "colorbar": {
            "outlinewidth": 0,
            "ticks": ""
           }
          },
          "colorscale": {
           "diverging": [
            [
             0,
             "#8e0152"
            ],
            [
             0.1,
             "#c51b7d"
            ],
            [
             0.2,
             "#de77ae"
            ],
            [
             0.3,
             "#f1b6da"
            ],
            [
             0.4,
             "#fde0ef"
            ],
            [
             0.5,
             "#f7f7f7"
            ],
            [
             0.6,
             "#e6f5d0"
            ],
            [
             0.7,
             "#b8e186"
            ],
            [
             0.8,
             "#7fbc41"
            ],
            [
             0.9,
             "#4d9221"
            ],
            [
             1,
             "#276419"
            ]
           ],
           "sequential": [
            [
             0,
             "#0d0887"
            ],
            [
             0.1111111111111111,
             "#46039f"
            ],
            [
             0.2222222222222222,
             "#7201a8"
            ],
            [
             0.3333333333333333,
             "#9c179e"
            ],
            [
             0.4444444444444444,
             "#bd3786"
            ],
            [
             0.5555555555555556,
             "#d8576b"
            ],
            [
             0.6666666666666666,
             "#ed7953"
            ],
            [
             0.7777777777777778,
             "#fb9f3a"
            ],
            [
             0.8888888888888888,
             "#fdca26"
            ],
            [
             1,
             "#f0f921"
            ]
           ],
           "sequentialminus": [
            [
             0,
             "#0d0887"
            ],
            [
             0.1111111111111111,
             "#46039f"
            ],
            [
             0.2222222222222222,
             "#7201a8"
            ],
            [
             0.3333333333333333,
             "#9c179e"
            ],
            [
             0.4444444444444444,
             "#bd3786"
            ],
            [
             0.5555555555555556,
             "#d8576b"
            ],
            [
             0.6666666666666666,
             "#ed7953"
            ],
            [
             0.7777777777777778,
             "#fb9f3a"
            ],
            [
             0.8888888888888888,
             "#fdca26"
            ],
            [
             1,
             "#f0f921"
            ]
           ]
          },
          "colorway": [
           "#636efa",
           "#EF553B",
           "#00cc96",
           "#ab63fa",
           "#FFA15A",
           "#19d3f3",
           "#FF6692",
           "#B6E880",
           "#FF97FF",
           "#FECB52"
          ],
          "font": {
           "color": "#2a3f5f"
          },
          "geo": {
           "bgcolor": "white",
           "lakecolor": "white",
           "landcolor": "#E5ECF6",
           "showlakes": true,
           "showland": true,
           "subunitcolor": "white"
          },
          "hoverlabel": {
           "align": "left"
          },
          "hovermode": "closest",
          "mapbox": {
           "style": "light"
          },
          "paper_bgcolor": "white",
          "plot_bgcolor": "#E5ECF6",
          "polar": {
           "angularaxis": {
            "gridcolor": "white",
            "linecolor": "white",
            "ticks": ""
           },
           "bgcolor": "#E5ECF6",
           "radialaxis": {
            "gridcolor": "white",
            "linecolor": "white",
            "ticks": ""
           }
          },
          "scene": {
           "xaxis": {
            "backgroundcolor": "#E5ECF6",
            "gridcolor": "white",
            "gridwidth": 2,
            "linecolor": "white",
            "showbackground": true,
            "ticks": "",
            "zerolinecolor": "white"
           },
           "yaxis": {
            "backgroundcolor": "#E5ECF6",
            "gridcolor": "white",
            "gridwidth": 2,
            "linecolor": "white",
            "showbackground": true,
            "ticks": "",
            "zerolinecolor": "white"
           },
           "zaxis": {
            "backgroundcolor": "#E5ECF6",
            "gridcolor": "white",
            "gridwidth": 2,
            "linecolor": "white",
            "showbackground": true,
            "ticks": "",
            "zerolinecolor": "white"
           }
          },
          "shapedefaults": {
           "line": {
            "color": "#2a3f5f"
           }
          },
          "ternary": {
           "aaxis": {
            "gridcolor": "white",
            "linecolor": "white",
            "ticks": ""
           },
           "baxis": {
            "gridcolor": "white",
            "linecolor": "white",
            "ticks": ""
           },
           "bgcolor": "#E5ECF6",
           "caxis": {
            "gridcolor": "white",
            "linecolor": "white",
            "ticks": ""
           }
          },
          "title": {
           "x": 0.05
          },
          "xaxis": {
           "automargin": true,
           "gridcolor": "white",
           "linecolor": "white",
           "ticks": "",
           "title": {
            "standoff": 15
           },
           "zerolinecolor": "white",
           "zerolinewidth": 2
          },
          "yaxis": {
           "automargin": true,
           "gridcolor": "white",
           "linecolor": "white",
           "ticks": "",
           "title": {
            "standoff": 15
           },
           "zerolinecolor": "white",
           "zerolinewidth": 2
          }
         }
        },
        "title": {
         "text": "Completions vs Commencements in Dublin"
        },
        "xaxis": {
         "anchor": "y",
         "autorange": true,
         "domain": [
          0,
          1
         ],
         "range": [
          -3.049257232212666,
          53.04925723221267
         ],
         "title": {
          "text": "Quarter"
         },
         "type": "category"
        },
        "yaxis": {
         "anchor": "x",
         "autorange": true,
         "domain": [
          0,
          1
         ],
         "range": [
          -578.6881510416666,
          8183.688151041667
         ],
         "title": {
          "text": "Count"
         },
         "type": "linear"
        }
       }
      },
      "image/png": "[encoded data removed]",
      "text/html": [
       "<div>                            <div id=\"64f1e410-c1f5-49a7-b50b-93026a8283ef\" class=\"plotly-graph-div\" style=\"height:525px; width:100%;\"></div>            <script type=\"text/javascript\">                require([\"plotly\"], function(Plotly) {                    window.PLOTLYENV=window.PLOTLYENV || {};                                    if (document.getElementById(\"64f1e410-c1f5-49a7-b50b-93026a8283ef\")) {                    Plotly.newPlot(                        \"64f1e410-c1f5-49a7-b50b-93026a8283ef\",                        [{\"hovertemplate\":\"variable=Completions NEW\\u003cbr\\u003eQuarter=%{x}\\u003cbr\\u003evalue=%{y}\\u003cextra\\u003e\\u003c\\u002fextra\\u003e\",\"legendgroup\":\"Completions NEW\",\"marker\":{\"color\":\"#636efa\",\"symbol\":\"circle\"},\"mode\":\"markers\",\"name\":\"Completions NEW\",\"orientation\":\"v\",\"showlegend\":true,\"x\":[\"Q1 12\",\"Q2 12\",\"Q3 12\",\"Q4 12\",\"Q1 13\",\"Q2 13\",\"Q3 13\",\"Q4 13\",\"Q1 14\",\"Q2 14\",\"Q3 14\",\"Q4 14\",\"Q1 15\",\"Q2 15\",\"Q3 15\",\"Q4 15\",\"Q1 16\",\"Q2 16\",\"Q3 16\",\"Q4 16\",\"Q1 17\",\"Q2 17\",\"Q3 17\",\"Q4 17\",\"Q1 18\",\"Q2 18\",\"Q3 18\",\"Q4 18\",\"Q1 19\",\"Q2 19\",\"Q3 19\",\"Q4 19\",\"Q1 20\",\"Q2 20\",\"Q3 20\",\"Q4 20\",\"Q1 21\",\"Q2 21\",\"Q3 21\",\"Q4 21\",\"Q1 22\",\"Q2 22\",\"Q3 22\",\"Q4 22\",\"Q1 23\",\"Q2 23\",\"Q3 23\",\"Q4 23\",\"Q1 24\",\"Q2 24\",\"Q3 24\"],\"xaxis\":\"x\",\"y\":[128,107,150,185,131,197,188,283,350,471,448,432,517,468,584,543,918,901,868,879,1206,1344,1564,1406,1385,1919,1917,1625,1696,1571,2010,1650,1896,888,1136,1995,1170,1638,1278,2004,2495,2905,2702,2333,2922,2526,3686,3362,2184,2250,3862],\"yaxis\":\"y\",\"type\":\"scatter\"},{\"hovertemplate\":\"variable=Commencements\\u003cbr\\u003eQuarter=%{x}\\u003cbr\\u003evalue=%{y}\\u003cextra\\u003e\\u003c\\u002fextra\\u003e\",\"legendgroup\":\"Commencements\",\"marker\":{\"color\":\"#EF553B\",\"symbol\":\"circle\"},\"mode\":\"markers\",\"name\":\"Commencements\",\"orientation\":\"v\",\"showlegend\":true,\"x\":[\"Q1 12\",\"Q2 12\",\"Q3 12\",\"Q4 12\",\"Q1 13\",\"Q2 13\",\"Q3 13\",\"Q4 13\",\"Q1 14\",\"Q2 14\",\"Q3 14\",\"Q4 14\",\"Q1 15\",\"Q2 15\",\"Q3 15\",\"Q4 15\",\"Q1 16\",\"Q2 16\",\"Q3 16\",\"Q4 16\",\"Q1 17\",\"Q2 17\",\"Q3 17\",\"Q4 17\",\"Q1 18\",\"Q2 18\",\"Q3 18\",\"Q4 18\",\"Q1 19\",\"Q2 19\",\"Q3 19\",\"Q4 19\",\"Q1 20\",\"Q2 20\",\"Q3 20\",\"Q4 20\",\"Q1 21\",\"Q2 21\",\"Q3 21\",\"Q4 21\",\"Q1 22\",\"Q2 22\",\"Q3 22\",\"Q4 22\",\"Q1 23\",\"Q2 23\",\"Q3 23\",\"Q4 23\",\"Q1 24\",\"Q2 24\",\"Q3 24\"],\"xaxis\":\"x\",\"y\":[43,391,89,243,254,182,487,528,1575,144,311,420,469,898,1218,1301,1552,1093,897,1862,1465,2196,1686,1640,1433,1950,2084,2240,2237,1589,2648,2524,3218,1154,1935,1886,395,5013,3596,1932,1855,2704,2653,2435,2747,3577,3267,4002,4347,7562,6056],\"yaxis\":\"y\",\"type\":\"scatter\"}],                        {\"template\":{\"data\":{\"histogram2dcontour\":[{\"type\":\"histogram2dcontour\",\"colorbar\":{\"outlinewidth\":0,\"ticks\":\"\"},\"colorscale\":[[0.0,\"#0d0887\"],[0.1111111111111111,\"#46039f\"],[0.2222222222222222,\"#7201a8\"],[0.3333333333333333,\"#9c179e\"],[0.4444444444444444,\"#bd3786\"],[0.5555555555555556,\"#d8576b\"],[0.6666666666666666,\"#ed7953\"],[0.7777777777777778,\"#fb9f3a\"],[0.8888888888888888,\"#fdca26\"],[1.0,\"#f0f921\"]]}],\"choropleth\":[{\"type\":\"choropleth\",\"colorbar\":{\"outlinewidth\":0,\"ticks\":\"\"}}],\"histogram2d\":[{\"type\":\"histogram2d\",\"colorbar\":{\"outlinewidth\":0,\"ticks\":\"\"},\"colorscale\":[[0.0,\"#0d0887\"],[0.1111111111111111,\"#46039f\"],[0.2222222222222222,\"#7201a8\"],[0.3333333333333333,\"#9c179e\"],[0.4444444444444444,\"#bd3786\"],[0.5555555555555556,\"#d8576b\"],[0.6666666666666666,\"#ed7953\"],[0.7777777777777778,\"#fb9f3a\"],[0.8888888888888888,\"#fdca26\"],[1.0,\"#f0f921\"]]}],\"heatmap\":[{\"type\":\"heatmap\",\"colorbar\":{\"outlinewidth\":0,\"ticks\":\"\"},\"colorscale\":[[0.0,\"#0d0887\"],[0.1111111111111111,\"#46039f\"],[0.2222222222222222,\"#7201a8\"],[0.3333333333333333,\"#9c179e\"],[0.4444444444444444,\"#bd3786\"],[0.5555555555555556,\"#d8576b\"],[0.6666666666666666,\"#ed7953\"],[0.7777777777777778,\"#fb9f3a\"],[0.8888888888888888,\"#fdca26\"],[1.0,\"#f0f921\"]]}],\"heatmapgl\":[{\"type\":\"heatmapgl\",\"colorbar\":{\"outlinewidth\":0,\"ticks\":\"\"},\"colorscale\":[[0.0,\"#0d0887\"],[0.1111111111111111,\"#46039f\"],[0.2222222222222222,\"#7201a8\"],[0.3333333333333333,\"#9c179e\"],[0.4444444444444444,\"#bd3786\"],[0.5555555555555556,\"#d8576b\"],[0.6666666666666666,\"#ed7953\"],[0.7777777777777778,\"#fb9f3a\"],[0.8888888888888888,\"#fdca26\"],[1.0,\"#f0f921\"]]}],\"contourcarpet\":[{\"type\":\"contourcarpet\",\"colorbar\":{\"outlinewidth\":0,\"ticks\":\"\"}}],\"contour\":[{\"type\":\"contour\",\"colorbar\":{\"outlinewidth\":0,\"ticks\":\"\"},\"colorscale\":[[0.0,\"#0d0887\"],[0.1111111111111111,\"#46039f\"],[0.2222222222222222,\"#7201a8\"],[0.3333333333333333,\"#9c179e\"],[0.4444444444444444,\"#bd3786\"],[0.5555555555555556,\"#d8576b\"],[0.6666666666666666,\"#ed7953\"],[0.7777777777777778,\"#fb9f3a\"],[0.8888888888888888,\"#fdca26\"],[1.0,\"#f0f921\"]]}],\"surface\":[{\"type\":\"surface\",\"colorbar\":{\"outlinewidth\":0,\"ticks\":\"\"},\"colorscale\":[[0.0,\"#0d0887\"],[0.1111111111111111,\"#46039f\"],[0.2222222222222222,\"#7201a8\"],[0.3333333333333333,\"#9c179e\"],[0.4444444444444444,\"#bd3786\"],[0.5555555555555556,\"#d8576b\"],[0.6666666666666666,\"#ed7953\"],[0.7777777777777778,\"#fb9f3a\"],[0.8888888888888888,\"#fdca26\"],[1.0,\"#f0f921\"]]}],\"mesh3d\":[{\"type\":\"mesh3d\",\"colorbar\":{\"outlinewidth\":0,\"ticks\":\"\"}}],\"scatter\":[{\"fillpattern\":{\"fillmode\":\"overlay\",\"size\":10,\"solidity\":0.2},\"type\":\"scatter\"}],\"parcoords\":[{\"type\":\"parcoords\",\"line\":{\"colorbar\":{\"outlinewidth\":0,\"ticks\":\"\"}}}],\"scatterpolargl\":[{\"type\":\"scatterpolargl\",\"marker\":{\"colorbar\":{\"outlinewidth\":0,\"ticks\":\"\"}}}],\"bar\":[{\"error_x\":{\"color\":\"#2a3f5f\"},\"error_y\":{\"color\":\"#2a3f5f\"},\"marker\":{\"line\":{\"color\":\"#E5ECF6\",\"width\":0.5},\"pattern\":{\"fillmode\":\"overlay\",\"size\":10,\"solidity\":0.2}},\"type\":\"bar\"}],\"scattergeo\":[{\"type\":\"scattergeo\",\"marker\":{\"colorbar\":{\"outlinewidth\":0,\"ticks\":\"\"}}}],\"scatterpolar\":[{\"type\":\"scatterpolar\",\"marker\":{\"colorbar\":{\"outlinewidth\":0,\"ticks\":\"\"}}}],\"histogram\":[{\"marker\":{\"pattern\":{\"fillmode\":\"overlay\",\"size\":10,\"solidity\":0.2}},\"type\":\"histogram\"}],\"scattergl\":[{\"type\":\"scattergl\",\"marker\":{\"colorbar\":{\"outlinewidth\":0,\"ticks\":\"\"}}}],\"scatter3d\":[{\"type\":\"scatter3d\",\"line\":{\"colorbar\":{\"outlinewidth\":0,\"ticks\":\"\"}},\"marker\":{\"colorbar\":{\"outlinewidth\":0,\"ticks\":\"\"}}}],\"scattermapbox\":[{\"type\":\"scattermapbox\",\"marker\":{\"colorbar\":{\"outlinewidth\":0,\"ticks\":\"\"}}}],\"scatterternary\":[{\"type\":\"scatterternary\",\"marker\":{\"colorbar\":{\"outlinewidth\":0,\"ticks\":\"\"}}}],\"scattercarpet\":[{\"type\":\"scattercarpet\",\"marker\":{\"colorbar\":{\"outlinewidth\":0,\"ticks\":\"\"}}}],\"carpet\":[{\"aaxis\":{\"endlinecolor\":\"#2a3f5f\",\"gridcolor\":\"white\",\"linecolor\":\"white\",\"minorgridcolor\":\"white\",\"startlinecolor\":\"#2a3f5f\"},\"baxis\":{\"endlinecolor\":\"#2a3f5f\",\"gridcolor\":\"white\",\"linecolor\":\"white\",\"minorgridcolor\":\"white\",\"startlinecolor\":\"#2a3f5f\"},\"type\":\"carpet\"}],\"table\":[{\"cells\":{\"fill\":{\"color\":\"#EBF0F8\"},\"line\":{\"color\":\"white\"}},\"header\":{\"fill\":{\"color\":\"#C8D4E3\"},\"line\":{\"color\":\"white\"}},\"type\":\"table\"}],\"barpolar\":[{\"marker\":{\"line\":{\"color\":\"#E5ECF6\",\"width\":0.5},\"pattern\":{\"fillmode\":\"overlay\",\"size\":10,\"solidity\":0.2}},\"type\":\"barpolar\"}],\"pie\":[{\"automargin\":true,\"type\":\"pie\"}]},\"layout\":{\"autotypenumbers\":\"strict\",\"colorway\":[\"#636efa\",\"#EF553B\",\"#00cc96\",\"#ab63fa\",\"#FFA15A\",\"#19d3f3\",\"#FF6692\",\"#B6E880\",\"#FF97FF\",\"#FECB52\"],\"font\":{\"color\":\"#2a3f5f\"},\"hovermode\":\"closest\",\"hoverlabel\":{\"align\":\"left\"},\"paper_bgcolor\":\"white\",\"plot_bgcolor\":\"#E5ECF6\",\"polar\":{\"bgcolor\":\"#E5ECF6\",\"angularaxis\":{\"gridcolor\":\"white\",\"linecolor\":\"white\",\"ticks\":\"\"},\"radialaxis\":{\"gridcolor\":\"white\",\"linecolor\":\"white\",\"ticks\":\"\"}},\"ternary\":{\"bgcolor\":\"#E5ECF6\",\"aaxis\":{\"gridcolor\":\"white\",\"linecolor\":\"white\",\"ticks\":\"\"},\"baxis\":{\"gridcolor\":\"white\",\"linecolor\":\"white\",\"ticks\":\"\"},\"caxis\":{\"gridcolor\":\"white\",\"linecolor\":\"white\",\"ticks\":\"\"}},\"coloraxis\":{\"colorbar\":{\"outlinewidth\":0,\"ticks\":\"\"}},\"colorscale\":{\"sequential\":[[0.0,\"#0d0887\"],[0.1111111111111111,\"#46039f\"],[0.2222222222222222,\"#7201a8\"],[0.3333333333333333,\"#9c179e\"],[0.4444444444444444,\"#bd3786\"],[0.5555555555555556,\"#d8576b\"],[0.6666666666666666,\"#ed7953\"],[0.7777777777777778,\"#fb9f3a\"],[0.8888888888888888,\"#fdca26\"],[1.0,\"#f0f921\"]],\"sequentialminus\":[[0.0,\"#0d0887\"],[0.1111111111111111,\"#46039f\"],[0.2222222222222222,\"#7201a8\"],[0.3333333333333333,\"#9c179e\"],[0.4444444444444444,\"#bd3786\"],[0.5555555555555556,\"#d8576b\"],[0.6666666666666666,\"#ed7953\"],[0.7777777777777778,\"#fb9f3a\"],[0.8888888888888888,\"#fdca26\"],[1.0,\"#f0f921\"]],\"diverging\":[[0,\"#8e0152\"],[0.1,\"#c51b7d\"],[0.2,\"#de77ae\"],[0.3,\"#f1b6da\"],[0.4,\"#fde0ef\"],[0.5,\"#f7f7f7\"],[0.6,\"#e6f5d0\"],[0.7,\"#b8e186\"],[0.8,\"#7fbc41\"],[0.9,\"#4d9221\"],[1,\"#276419\"]]},\"xaxis\":{\"gridcolor\":\"white\",\"linecolor\":\"white\",\"ticks\":\"\",\"title\":{\"standoff\":15},\"zerolinecolor\":\"white\",\"automargin\":true,\"zerolinewidth\":2},\"yaxis\":{\"gridcolor\":\"white\",\"linecolor\":\"white\",\"ticks\":\"\",\"title\":{\"standoff\":15},\"zerolinecolor\":\"white\",\"automargin\":true,\"zerolinewidth\":2},\"scene\":{\"xaxis\":{\"backgroundcolor\":\"#E5ECF6\",\"gridcolor\":\"white\",\"linecolor\":\"white\",\"showbackground\":true,\"ticks\":\"\",\"zerolinecolor\":\"white\",\"gridwidth\":2},\"yaxis\":{\"backgroundcolor\":\"#E5ECF6\",\"gridcolor\":\"white\",\"linecolor\":\"white\",\"showbackground\":true,\"ticks\":\"\",\"zerolinecolor\":\"white\",\"gridwidth\":2},\"zaxis\":{\"backgroundcolor\":\"#E5ECF6\",\"gridcolor\":\"white\",\"linecolor\":\"white\",\"showbackground\":true,\"ticks\":\"\",\"zerolinecolor\":\"white\",\"gridwidth\":2}},\"shapedefaults\":{\"line\":{\"color\":\"#2a3f5f\"}},\"annotationdefaults\":{\"arrowcolor\":\"#2a3f5f\",\"arrowhead\":0,\"arrowwidth\":1},\"geo\":{\"bgcolor\":\"white\",\"landcolor\":\"#E5ECF6\",\"subunitcolor\":\"white\",\"showland\":true,\"showlakes\":true,\"lakecolor\":\"white\"},\"title\":{\"x\":0.05},\"mapbox\":{\"style\":\"light\"}}},\"xaxis\":{\"anchor\":\"y\",\"domain\":[0.0,1.0],\"title\":{\"text\":\"Quarter\"}},\"yaxis\":{\"anchor\":\"x\",\"domain\":[0.0,1.0],\"title\":{\"text\":\"Count\"}},\"legend\":{\"title\":{\"text\":\"variable\"},\"tracegroupgap\":0},\"title\":{\"text\":\"Completions vs Commencements in Dublin\"}},                        {\"responsive\": true}                    ).then(function(){\n",
       "                            \n",
       "var gd = document.getElementById('64f1e410-c1f5-49a7-b50b-93026a8283ef');\n",
       "var x = new MutationObserver(function (mutations, observer) {{\n",
       "        var display = window.getComputedStyle(gd).display;\n",
       "        if (!display || display === 'none') {{\n",
       "            console.log([gd, 'removed!']);\n",
       "            Plotly.purge(gd);\n",
       "            observer.disconnect();\n",
       "        }}\n",
       "}});\n",
       "\n",
       "// Listen for the removal of the full notebook cells\n",
       "var notebookContainer = gd.closest('#notebook-container');\n",
       "if (notebookContainer) {{\n",
       "    x.observe(notebookContainer, {childList: true});\n",
       "}}\n",
       "\n",
       "// Listen for the clearing of the current output cell\n",
       "var outputEl = gd.closest('.output');\n",
       "if (outputEl) {{\n",
       "    x.observe(outputEl, {childList: true});\n",
       "}}\n",
       "\n",
       "                        })                };                });            </script>        </div>"
      ]
     },
     "metadata": {},
     "output_type": "display_data"
    }
   ],
   "source": [
    "x = dublin_housing['Quarter']\n",
    "y = dublin_housing.columns\n",
    "chart_type = \"scatter\" # 'line', 'bar', 'scatter'\n",
    "title=\"Completions vs Commencements in Dublin\"\n",
    "y_axis_label=\"Count\"\n",
    "fig = dt.visualize_data(dublin_housing, x, y[1:3], chart_type, title, y_axis_label)\n",
    "fig.show()"
   ]
  }
 ],
 "metadata": {
  "kernelspec": {
   "display_name": "dublin_data_env",
   "language": "python",
   "name": "dublin_data_env"
  },
  "language_info": {
   "codemirror_mode": {
    "name": "ipython",
    "version": 3
   },
   "file_extension": ".py",
   "mimetype": "text/x-python",
   "name": "python",
   "nbconvert_exporter": "python",
   "pygments_lexer": "ipython3",
   "version": "3.12.7"
  }
 },
 "nbformat": 4,
 "nbformat_minor": 5
}
